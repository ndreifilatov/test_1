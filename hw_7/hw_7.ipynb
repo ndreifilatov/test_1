{
  "nbformat": 4,
  "nbformat_minor": 0,
  "metadata": {
    "colab": {
      "provenance": []
    },
    "kernelspec": {
      "name": "python3",
      "display_name": "Python 3"
    },
    "language_info": {
      "name": "python"
    }
  },
  "cells": [
    {
      "cell_type": "code",
      "execution_count": 33,
      "metadata": {
        "id": "rcnBHQBVqhg_"
      },
      "outputs": [],
      "source": [
        "import requests\n",
        "from bs4 import BeautifulSoup\n",
        "import pandas as pd\n",
        "from tqdm import tqdm"
      ]
    },
    {
      "cell_type": "code",
      "source": [
        "base_url = 'https://lifehacker.ru/topics/technology/' # базовая\n",
        "response = requests.get('https://lifehacker.ru/topics/technology/')\n",
        "soup = BeautifulSoup(response.text, 'lxml') # инициализируем bs4 и задаем парсер lxml"
      ],
      "metadata": {
        "id": "zsF_QjhrrTLg"
      },
      "execution_count": 34,
      "outputs": []
    },
    {
      "cell_type": "code",
      "source": [
        "raw_items = soup.find_all('a', class_='lh-small-article-card__link')\n",
        "links = [item.get('href') for item in raw_items]\n",
        "links"
      ],
      "metadata": {
        "colab": {
          "base_uri": "https://localhost:8080/"
        },
        "id": "2Ahl6zpx9FKk",
        "outputId": "dac59dd2-efbb-47f0-ba92-d216e08266d3"
      },
      "execution_count": 35,
      "outputs": [
        {
          "output_type": "execute_result",
          "data": {
            "text/plain": [
              "['/xiaomi-smart-band-10-v-rossii/',\n",
              " '/windows-proshhaetsya-s-sinim-ekranom-smerti/',\n",
              " '/anons-galaxy-buds-core/',\n",
              " '/dreame-h15-pro-heat-obzor/',\n",
              " '/anons-xiaomi-open-headphones-pro/',\n",
              " '/anons-xiaomi-ai-glasses/',\n",
              " '/kak-chistit-trimmer-dlya-borody/',\n",
              " '/alisu-teper-mozhno-perebivat/',\n",
              " '/anons-xiaomi-mix-flip-2/',\n",
              " '/anons-xiaomi-smart-band-10/',\n",
              " '/sammari-neprochitannogo-v-whatsapp/',\n",
              " '/besplatnye-analogi-nejrosetej/',\n",
              " '/anons-vivo-watch-5-2/',\n",
              " '/anons-quest-3s-xbox-edition/',\n",
              " '/anons-soundcore-rave-3s/',\n",
              " '/kak-polnostyu-udalit-programmu-s-komputera/',\n",
              " '/obzor-dreame-x50-ultra-complete/',\n",
              " '/anons-vivo-x-fold-5/',\n",
              " '/krupnoe-obnovlenie-png/',\n",
              " '/obzor-qled-televizora-sber-50/',\n",
              " '/anons-fairphone-6/',\n",
              " '/anons-amazfit-helio-strap/',\n",
              " '/adresnaya-stroka-v-chrome/',\n",
              " '/anons-unihertz-titan-2/',\n",
              " '/anons-poco-f7/',\n",
              " '/mozhno-li-polzovatsya-telefonom-v-grozu/',\n",
              " '/v-rossii-poyavitsya-nacionalnyi-messendzher/',\n",
              " '/razvertyvanie-hyperos-2-2/',\n",
              " '/podderzhka-chrome-na-android-9/',\n",
              " '/chitaemost-ios-26-uluchshili/']"
            ]
          },
          "metadata": {},
          "execution_count": 35
        }
      ]
    },
    {
      "cell_type": "code",
      "source": [
        "parsed_urls = []"
      ],
      "metadata": {
        "id": "b-amEqUO9265"
      },
      "execution_count": 36,
      "outputs": []
    },
    {
      "cell_type": "code",
      "source": [
        "for page_num in range(1, 11):\n",
        "    url = f'{base_url}/?page={page_num}'\n",
        "    response = requests.get(url)\n",
        "    soup = BeautifulSoup(response.text, 'lxml')\n",
        "    raw_items = soup.find_all('a', class_='lh-small-article-card__link')\n",
        "    parsed_urls += [item.get('href') for item in raw_items]"
      ],
      "metadata": {
        "id": "Fzt9Grn4_1Jo"
      },
      "execution_count": 37,
      "outputs": []
    },
    {
      "cell_type": "code",
      "source": [
        "parsed_urls[10:20]"
      ],
      "metadata": {
        "colab": {
          "base_uri": "https://localhost:8080/"
        },
        "id": "i9Ga5-5mBJTo",
        "outputId": "e6379171-4c2f-4fa0-8d6f-f3307a661942"
      },
      "execution_count": 38,
      "outputs": [
        {
          "output_type": "execute_result",
          "data": {
            "text/plain": [
              "['/sammari-neprochitannogo-v-whatsapp/',\n",
              " '/besplatnye-analogi-nejrosetej/',\n",
              " '/anons-vivo-watch-5-2/',\n",
              " '/anons-quest-3s-xbox-edition/',\n",
              " '/anons-soundcore-rave-3s/',\n",
              " '/kak-polnostyu-udalit-programmu-s-komputera/',\n",
              " '/obzor-dreame-x50-ultra-complete/',\n",
              " '/anons-vivo-x-fold-5/',\n",
              " '/krupnoe-obnovlenie-png/',\n",
              " '/obzor-qled-televizora-sber-50/']"
            ]
          },
          "metadata": {},
          "execution_count": 38
        }
      ]
    },
    {
      "cell_type": "code",
      "source": [
        "base_url = 'https://lifehacker.ru'"
      ],
      "metadata": {
        "id": "uO4wb-KbEZ9v"
      },
      "execution_count": 39,
      "outputs": []
    },
    {
      "cell_type": "code",
      "source": [
        "result = []\n",
        "\n",
        "for url in tqdm(parsed_urls):\n",
        "    article = {}\n",
        "\n",
        "    article_url = f'{base_url}{url}' # подставляем часть ссылки, ведущую материал\n",
        "    response = requests.get(article_url)\n",
        "    soup = BeautifulSoup(response.text, 'lxml')\n",
        "\n",
        "    article['title'] = soup.find('h1', class_='article-card__title').text # Получаем текст из span в первом h1 с классом tm-title_h1\n",
        "    article['text'] = soup.find('article', class_='single-article__post-content single-article__content-container').text # Получаем весь текст из div с классом tm-article-body\n",
        "\n",
        "    result.append(article)"
      ],
      "metadata": {
        "colab": {
          "base_uri": "https://localhost:8080/"
        },
        "id": "QXSTRnW9EYyw",
        "outputId": "8ecf1265-a067-408a-ae6e-3ae9e1093890"
      },
      "execution_count": 41,
      "outputs": [
        {
          "output_type": "stream",
          "name": "stderr",
          "text": [
            "100%|██████████| 300/300 [04:47<00:00,  1.04it/s]\n"
          ]
        }
      ]
    },
    {
      "cell_type": "code",
      "source": [
        "pd.set_option('display.max_colwidth', 400) #обрезка"
      ],
      "metadata": {
        "id": "Iv_RXMKAIMT-"
      },
      "execution_count": 42,
      "outputs": []
    },
    {
      "cell_type": "code",
      "source": [
        "data = pd.DataFrame(result)\n",
        "data.head()"
      ],
      "metadata": {
        "colab": {
          "base_uri": "https://localhost:8080/",
          "height": 408
        },
        "id": "irwyfLBVIUvu",
        "outputId": "748bd187-7b59-4c63-c11b-ea9346c5e4c9"
      },
      "execution_count": 43,
      "outputs": [
        {
          "output_type": "execute_result",
          "data": {
            "text/plain": [
              "                                                                                                title  \\\n",
              "0                    В России стартует Xiaomi Smart Band 10 — впервые через день после анонса в Китае   \n",
              "1                                            Windows прощается с синим экраном смерти — спустя 40 лет   \n",
              "2                   Samsung представила Galaxy Buds Core — беспроводные наушники дешевле 5 000 рублей   \n",
              "3     Обзор Dreame H15 Pro Heat — мощного вертикального пылесоса с ИИ и горячей водой для мытья полов   \n",
              "4  Xiaomi анонсировала Open Headphones Pro — открытые TWS-наушники с пятью драйверами и звуком Harman   \n",
              "\n",
              "                                                                                                                                                                                                                                                                                                                                                                                                              text  \n",
              "0  В России стартовали продажи фитнес‑браслета Xiaomi Smart Band 10, представленного вчера, 26 июня. В крупных сетях электроники и на маркетплейсах для заказа уже доступны версии в чёрном, серебристом и розовом цветах по рекомендованной цене 4 290 рублей. Керамическая версия оценивается в 5 990 рублей. Купить на «Яндекс Маркете»Xiaomi Smart Band 10 оснащён 1,72‑дюймовым AMOLED‑дисплеем с симметри...  \n",
              "1  Microsoft рассказала, что знаменитый Blue Screen of Death (BSOD), который появлялся при серьёзных сбоях Windows почти 40 лет, сменит цвет. Вместо привычного синего экрана пользователи увидят Black Screen of Death — чёрный экран с упрощённым дизайном.В новой версии Windows 11 экран смерти лишится грустного смайлика и QR-кода. Останется только важная информация — код ошибки и имя проблемного дра...  \n",
              "2  Samsung без лишнего шума представила беспроводные наушники Galaxy Buds Core с поддержкой искусственного интеллекта. Это самая доступная модель в линейке компании, при этом её дизайн очень похож на Galaxy Buds FE, находящиеся на ступень выше.Несмотря на стоимость, новинка предлагает такие функции, как активное шумоподавление (ANC) и поддержку высококачественных аудиокодеков (AAC и SSC). Произво...  \n",
              "3  Мойка горячей водой, искусственный интеллект, сушка щётки — всё это звучит как список фишек премиального робота-пылесоса. Но эти особенности уже проникают и в более привычные ручные модели — такие как Dreame H15 Pro Heat. Он не просто убирает пыль и загрязнения, но и анализирует, адаптируется, моет, сушит и вообще делает всё, чтобы вы не возвращались к уборке дважды. Разобрались, насколько гад...  \n",
              "4  Xiaomi представила открытые TWS-наушники Open Headphones Pro, которые получили настройку звука при участии специалистов Harman Golden Ear. Акустическая система состоит из большого динамического драйвера для басов, двух арматурных излучателей и пьезоэлектрического керамического модуля для высоких частот. Такой набор, по словам компании, обеспечивает насыщенные низкие частоты и чёткое, детализир...  "
            ],
            "text/html": [
              "\n",
              "  <div id=\"df-a217b686-d16a-47bb-84bf-886b054eb709\" class=\"colab-df-container\">\n",
              "    <div>\n",
              "<style scoped>\n",
              "    .dataframe tbody tr th:only-of-type {\n",
              "        vertical-align: middle;\n",
              "    }\n",
              "\n",
              "    .dataframe tbody tr th {\n",
              "        vertical-align: top;\n",
              "    }\n",
              "\n",
              "    .dataframe thead th {\n",
              "        text-align: right;\n",
              "    }\n",
              "</style>\n",
              "<table border=\"1\" class=\"dataframe\">\n",
              "  <thead>\n",
              "    <tr style=\"text-align: right;\">\n",
              "      <th></th>\n",
              "      <th>title</th>\n",
              "      <th>text</th>\n",
              "    </tr>\n",
              "  </thead>\n",
              "  <tbody>\n",
              "    <tr>\n",
              "      <th>0</th>\n",
              "      <td>В России стартует Xiaomi Smart Band 10 — впервые через день после анонса в Китае</td>\n",
              "      <td>В России стартовали продажи фитнес‑браслета Xiaomi Smart Band 10, представленного вчера, 26 июня. В крупных сетях электроники и на маркетплейсах для заказа уже доступны версии в чёрном, серебристом и розовом цветах по рекомендованной цене 4 290 рублей. Керамическая версия оценивается в 5 990 рублей. Купить на «Яндекс Маркете»Xiaomi Smart Band 10 оснащён 1,72‑дюймовым AMOLED‑дисплеем с симметри...</td>\n",
              "    </tr>\n",
              "    <tr>\n",
              "      <th>1</th>\n",
              "      <td>Windows прощается с синим экраном смерти — спустя 40 лет</td>\n",
              "      <td>Microsoft рассказала, что знаменитый Blue Screen of Death (BSOD), который появлялся при серьёзных сбоях Windows почти 40 лет, сменит цвет. Вместо привычного синего экрана пользователи увидят Black Screen of Death — чёрный экран с упрощённым дизайном.В новой версии Windows 11 экран смерти лишится грустного смайлика и QR-кода. Останется только важная информация — код ошибки и имя проблемного дра...</td>\n",
              "    </tr>\n",
              "    <tr>\n",
              "      <th>2</th>\n",
              "      <td>Samsung представила Galaxy Buds Core — беспроводные наушники дешевле 5 000 рублей</td>\n",
              "      <td>Samsung без лишнего шума представила беспроводные наушники Galaxy Buds Core с поддержкой искусственного интеллекта. Это самая доступная модель в линейке компании, при этом её дизайн очень похож на Galaxy Buds FE, находящиеся на ступень выше.Несмотря на стоимость, новинка предлагает такие функции, как активное шумоподавление (ANC) и поддержку высококачественных аудиокодеков (AAC и SSC). Произво...</td>\n",
              "    </tr>\n",
              "    <tr>\n",
              "      <th>3</th>\n",
              "      <td>Обзор Dreame H15 Pro Heat — мощного вертикального пылесоса с ИИ и горячей водой для мытья полов</td>\n",
              "      <td>Мойка горячей водой, искусственный интеллект, сушка щётки — всё это звучит как список фишек премиального робота-пылесоса. Но эти особенности уже проникают и в более привычные ручные модели — такие как Dreame H15 Pro Heat. Он не просто убирает пыль и загрязнения, но и анализирует, адаптируется, моет, сушит и вообще делает всё, чтобы вы не возвращались к уборке дважды. Разобрались, насколько гад...</td>\n",
              "    </tr>\n",
              "    <tr>\n",
              "      <th>4</th>\n",
              "      <td>Xiaomi анонсировала Open Headphones Pro — открытые TWS-наушники с пятью драйверами и звуком Harman</td>\n",
              "      <td>Xiaomi представила открытые TWS-наушники Open Headphones Pro, которые получили настройку звука при участии специалистов Harman Golden Ear. Акустическая система состоит из большого динамического драйвера для басов, двух арматурных излучателей и пьезоэлектрического керамического модуля для высоких частот. Такой набор, по словам компании, обеспечивает насыщенные низкие частоты и чёткое, детализир...</td>\n",
              "    </tr>\n",
              "  </tbody>\n",
              "</table>\n",
              "</div>\n",
              "    <div class=\"colab-df-buttons\">\n",
              "\n",
              "  <div class=\"colab-df-container\">\n",
              "    <button class=\"colab-df-convert\" onclick=\"convertToInteractive('df-a217b686-d16a-47bb-84bf-886b054eb709')\"\n",
              "            title=\"Convert this dataframe to an interactive table.\"\n",
              "            style=\"display:none;\">\n",
              "\n",
              "  <svg xmlns=\"http://www.w3.org/2000/svg\" height=\"24px\" viewBox=\"0 -960 960 960\">\n",
              "    <path d=\"M120-120v-720h720v720H120Zm60-500h600v-160H180v160Zm220 220h160v-160H400v160Zm0 220h160v-160H400v160ZM180-400h160v-160H180v160Zm440 0h160v-160H620v160ZM180-180h160v-160H180v160Zm440 0h160v-160H620v160Z\"/>\n",
              "  </svg>\n",
              "    </button>\n",
              "\n",
              "  <style>\n",
              "    .colab-df-container {\n",
              "      display:flex;\n",
              "      gap: 12px;\n",
              "    }\n",
              "\n",
              "    .colab-df-convert {\n",
              "      background-color: #E8F0FE;\n",
              "      border: none;\n",
              "      border-radius: 50%;\n",
              "      cursor: pointer;\n",
              "      display: none;\n",
              "      fill: #1967D2;\n",
              "      height: 32px;\n",
              "      padding: 0 0 0 0;\n",
              "      width: 32px;\n",
              "    }\n",
              "\n",
              "    .colab-df-convert:hover {\n",
              "      background-color: #E2EBFA;\n",
              "      box-shadow: 0px 1px 2px rgba(60, 64, 67, 0.3), 0px 1px 3px 1px rgba(60, 64, 67, 0.15);\n",
              "      fill: #174EA6;\n",
              "    }\n",
              "\n",
              "    .colab-df-buttons div {\n",
              "      margin-bottom: 4px;\n",
              "    }\n",
              "\n",
              "    [theme=dark] .colab-df-convert {\n",
              "      background-color: #3B4455;\n",
              "      fill: #D2E3FC;\n",
              "    }\n",
              "\n",
              "    [theme=dark] .colab-df-convert:hover {\n",
              "      background-color: #434B5C;\n",
              "      box-shadow: 0px 1px 3px 1px rgba(0, 0, 0, 0.15);\n",
              "      filter: drop-shadow(0px 1px 2px rgba(0, 0, 0, 0.3));\n",
              "      fill: #FFFFFF;\n",
              "    }\n",
              "  </style>\n",
              "\n",
              "    <script>\n",
              "      const buttonEl =\n",
              "        document.querySelector('#df-a217b686-d16a-47bb-84bf-886b054eb709 button.colab-df-convert');\n",
              "      buttonEl.style.display =\n",
              "        google.colab.kernel.accessAllowed ? 'block' : 'none';\n",
              "\n",
              "      async function convertToInteractive(key) {\n",
              "        const element = document.querySelector('#df-a217b686-d16a-47bb-84bf-886b054eb709');\n",
              "        const dataTable =\n",
              "          await google.colab.kernel.invokeFunction('convertToInteractive',\n",
              "                                                    [key], {});\n",
              "        if (!dataTable) return;\n",
              "\n",
              "        const docLinkHtml = 'Like what you see? Visit the ' +\n",
              "          '<a target=\"_blank\" href=https://colab.research.google.com/notebooks/data_table.ipynb>data table notebook</a>'\n",
              "          + ' to learn more about interactive tables.';\n",
              "        element.innerHTML = '';\n",
              "        dataTable['output_type'] = 'display_data';\n",
              "        await google.colab.output.renderOutput(dataTable, element);\n",
              "        const docLink = document.createElement('div');\n",
              "        docLink.innerHTML = docLinkHtml;\n",
              "        element.appendChild(docLink);\n",
              "      }\n",
              "    </script>\n",
              "  </div>\n",
              "\n",
              "\n",
              "    <div id=\"df-663ea77d-a198-4d70-8808-b95a03ebdaa3\">\n",
              "      <button class=\"colab-df-quickchart\" onclick=\"quickchart('df-663ea77d-a198-4d70-8808-b95a03ebdaa3')\"\n",
              "                title=\"Suggest charts\"\n",
              "                style=\"display:none;\">\n",
              "\n",
              "<svg xmlns=\"http://www.w3.org/2000/svg\" height=\"24px\"viewBox=\"0 0 24 24\"\n",
              "     width=\"24px\">\n",
              "    <g>\n",
              "        <path d=\"M19 3H5c-1.1 0-2 .9-2 2v14c0 1.1.9 2 2 2h14c1.1 0 2-.9 2-2V5c0-1.1-.9-2-2-2zM9 17H7v-7h2v7zm4 0h-2V7h2v10zm4 0h-2v-4h2v4z\"/>\n",
              "    </g>\n",
              "</svg>\n",
              "      </button>\n",
              "\n",
              "<style>\n",
              "  .colab-df-quickchart {\n",
              "      --bg-color: #E8F0FE;\n",
              "      --fill-color: #1967D2;\n",
              "      --hover-bg-color: #E2EBFA;\n",
              "      --hover-fill-color: #174EA6;\n",
              "      --disabled-fill-color: #AAA;\n",
              "      --disabled-bg-color: #DDD;\n",
              "  }\n",
              "\n",
              "  [theme=dark] .colab-df-quickchart {\n",
              "      --bg-color: #3B4455;\n",
              "      --fill-color: #D2E3FC;\n",
              "      --hover-bg-color: #434B5C;\n",
              "      --hover-fill-color: #FFFFFF;\n",
              "      --disabled-bg-color: #3B4455;\n",
              "      --disabled-fill-color: #666;\n",
              "  }\n",
              "\n",
              "  .colab-df-quickchart {\n",
              "    background-color: var(--bg-color);\n",
              "    border: none;\n",
              "    border-radius: 50%;\n",
              "    cursor: pointer;\n",
              "    display: none;\n",
              "    fill: var(--fill-color);\n",
              "    height: 32px;\n",
              "    padding: 0;\n",
              "    width: 32px;\n",
              "  }\n",
              "\n",
              "  .colab-df-quickchart:hover {\n",
              "    background-color: var(--hover-bg-color);\n",
              "    box-shadow: 0 1px 2px rgba(60, 64, 67, 0.3), 0 1px 3px 1px rgba(60, 64, 67, 0.15);\n",
              "    fill: var(--button-hover-fill-color);\n",
              "  }\n",
              "\n",
              "  .colab-df-quickchart-complete:disabled,\n",
              "  .colab-df-quickchart-complete:disabled:hover {\n",
              "    background-color: var(--disabled-bg-color);\n",
              "    fill: var(--disabled-fill-color);\n",
              "    box-shadow: none;\n",
              "  }\n",
              "\n",
              "  .colab-df-spinner {\n",
              "    border: 2px solid var(--fill-color);\n",
              "    border-color: transparent;\n",
              "    border-bottom-color: var(--fill-color);\n",
              "    animation:\n",
              "      spin 1s steps(1) infinite;\n",
              "  }\n",
              "\n",
              "  @keyframes spin {\n",
              "    0% {\n",
              "      border-color: transparent;\n",
              "      border-bottom-color: var(--fill-color);\n",
              "      border-left-color: var(--fill-color);\n",
              "    }\n",
              "    20% {\n",
              "      border-color: transparent;\n",
              "      border-left-color: var(--fill-color);\n",
              "      border-top-color: var(--fill-color);\n",
              "    }\n",
              "    30% {\n",
              "      border-color: transparent;\n",
              "      border-left-color: var(--fill-color);\n",
              "      border-top-color: var(--fill-color);\n",
              "      border-right-color: var(--fill-color);\n",
              "    }\n",
              "    40% {\n",
              "      border-color: transparent;\n",
              "      border-right-color: var(--fill-color);\n",
              "      border-top-color: var(--fill-color);\n",
              "    }\n",
              "    60% {\n",
              "      border-color: transparent;\n",
              "      border-right-color: var(--fill-color);\n",
              "    }\n",
              "    80% {\n",
              "      border-color: transparent;\n",
              "      border-right-color: var(--fill-color);\n",
              "      border-bottom-color: var(--fill-color);\n",
              "    }\n",
              "    90% {\n",
              "      border-color: transparent;\n",
              "      border-bottom-color: var(--fill-color);\n",
              "    }\n",
              "  }\n",
              "</style>\n",
              "\n",
              "      <script>\n",
              "        async function quickchart(key) {\n",
              "          const quickchartButtonEl =\n",
              "            document.querySelector('#' + key + ' button');\n",
              "          quickchartButtonEl.disabled = true;  // To prevent multiple clicks.\n",
              "          quickchartButtonEl.classList.add('colab-df-spinner');\n",
              "          try {\n",
              "            const charts = await google.colab.kernel.invokeFunction(\n",
              "                'suggestCharts', [key], {});\n",
              "          } catch (error) {\n",
              "            console.error('Error during call to suggestCharts:', error);\n",
              "          }\n",
              "          quickchartButtonEl.classList.remove('colab-df-spinner');\n",
              "          quickchartButtonEl.classList.add('colab-df-quickchart-complete');\n",
              "        }\n",
              "        (() => {\n",
              "          let quickchartButtonEl =\n",
              "            document.querySelector('#df-663ea77d-a198-4d70-8808-b95a03ebdaa3 button');\n",
              "          quickchartButtonEl.style.display =\n",
              "            google.colab.kernel.accessAllowed ? 'block' : 'none';\n",
              "        })();\n",
              "      </script>\n",
              "    </div>\n",
              "    </div>\n",
              "  </div>\n"
            ],
            "application/vnd.google.colaboratory.intrinsic+json": {
              "type": "dataframe",
              "variable_name": "data",
              "summary": "{\n  \"name\": \"data\",\n  \"rows\": 300,\n  \"fields\": [\n    {\n      \"column\": \"title\",\n      \"properties\": {\n        \"dtype\": \"category\",\n        \"num_unique_values\": 30,\n        \"samples\": [\n          \"\\u041d\\u0430\\u0437\\u0432\\u0430\\u043d\\u044b \\u0441\\u043c\\u0430\\u0440\\u0442\\u0444\\u043e\\u043d\\u044b \\u0438 \\u043f\\u043b\\u0430\\u043d\\u0448\\u0435\\u0442\\u044b, \\u043a\\u043e\\u0442\\u043e\\u0440\\u044b\\u0435 \\u043f\\u043e\\u043b\\u0443\\u0447\\u0430\\u0442 HyperOS 2.2 \\u0432 \\u0441\\u0430\\u043c\\u043e\\u0435 \\u0431\\u043b\\u0438\\u0436\\u0430\\u0439\\u0448\\u0435\\u0435 \\u0432\\u0440\\u0435\\u043c\\u044f\",\n          \"\\u041a\\u0430\\u043a \\u043f\\u043e\\u043b\\u043d\\u043e\\u0441\\u0442\\u044c\\u044e \\u0443\\u0434\\u0430\\u043b\\u0438\\u0442\\u044c \\u043f\\u0440\\u043e\\u0433\\u0440\\u0430\\u043c\\u043c\\u0443 \\u0441 \\u043a\\u043e\\u043c\\u043f\\u044c\\u044e\\u0442\\u0435\\u0440\\u0430 \\u043d\\u0430 Windows \\u0438\\u00a0macOS\",\n          \"\\u041f\\u0440\\u0435\\u0434\\u0441\\u0442\\u0430\\u0432\\u043b\\u0435\\u043d Unihertz Titan 2 \\u2014 \\u0441\\u043c\\u0430\\u0440\\u0442\\u0444\\u043e\\u043d \\u0441 QWERTY-\\u043a\\u043b\\u0430\\u0432\\u0438\\u0430\\u0442\\u0443\\u0440\\u043e\\u0439 \\u0438 \\u0434\\u0432\\u0443\\u043c\\u044f \\u044d\\u043a\\u0440\\u0430\\u043d\\u0430\\u043c\\u0438\"\n        ],\n        \"semantic_type\": \"\",\n        \"description\": \"\"\n      }\n    },\n    {\n      \"column\": \"text\",\n      \"properties\": {\n        \"dtype\": \"category\",\n        \"num_unique_values\": 30,\n        \"samples\": [\n          \"Xiaomi \\u0433\\u043e\\u0442\\u043e\\u0432\\u0438\\u0442\\u0441\\u044f \\u043a \\u043c\\u0430\\u0441\\u0448\\u0442\\u0430\\u0431\\u043d\\u043e\\u043c\\u0443 \\u0437\\u0430\\u043f\\u0443\\u0441\\u043a\\u0443 HyperOS 2.2. \\u041f\\u0435\\u0440\\u0432\\u0430\\u044f \\u0432\\u043e\\u043b\\u043d\\u0430 \\u0440\\u0430\\u0437\\u0432\\u0451\\u0440\\u0442\\u044b\\u0432\\u0430\\u043d\\u0438\\u044f \\u043e\\u0445\\u0432\\u0430\\u0442\\u0438\\u0442 \\u0431\\u043e\\u043b\\u0435\\u0435 40 \\u0443\\u0441\\u0442\\u0440\\u043e\\u0439\\u0441\\u0442\\u0432 \\u043f\\u043e \\u0432\\u0441\\u0435\\u043c\\u0443 \\u043c\\u0438\\u0440\\u0443. \\u0421\\u0440\\u0435\\u0434\\u0438 \\u043d\\u0438\\u0445 \\u2014 \\u0441\\u043c\\u0430\\u0440\\u0442\\u0444\\u043e\\u043d\\u044b Poco \\u0438 Redmi, \\u0430 \\u0442\\u0430\\u043a\\u0436\\u0435 \\u043f\\u043b\\u0430\\u043d\\u0448\\u0435\\u0442\\u044b Xiaomi.\\u041e\\u0436\\u0438\\u0434\\u0430\\u0435\\u0442\\u0441\\u044f, \\u0447\\u0442\\u043e \\u043f\\u0440\\u043e\\u0448\\u0438\\u0432\\u043a\\u0430 \\u0431\\u0443\\u0434\\u0435\\u0442 \\u0434\\u043e\\u0441\\u0442\\u0443\\u043f\\u043d\\u0430 \\u043d\\u0430 \\u0443\\u0441\\u0442\\u0440\\u043e\\u0439\\u0441\\u0442\\u0432\\u0430\\u0445 \\u0432 \\u0442\\u0435\\u0447\\u0435\\u043d\\u0438\\u0435 \\u0431\\u043b\\u0438\\u0436\\u0430\\u0439\\u0448\\u0438\\u0445 \\u0441\\u0435\\u043c\\u0438\\u00a0\\u0434\\u043d\\u0435\\u0439.Poco F7 Pro OS2.0.202.0.VOKEUXM (\\u0415\\u0432\\u0440\\u043e\\u043f\\u0430);\\nPoco M6 Pro 4G / Redmi Note 13 Pro 4G OS2.0.203.0.VNFRUXM (\\u0420\\u043e\\u0441\\u0441\\u0438\\u044f);\\nPOCO M6/Redmi 13 / Redmi 13X OS2.0.201.0.VNTEUXM (\\u0415\\u0432\\u0440\\u043e\\u043f\\u0430);\\nPoco X6 Pro OS2.0.201.0.VNLEUXM (\\u0415\\u0432\\u0440\\u043e\\u043f\\u0430);\\nPoco X6 Pro OS2.0.201.0.VNLINXM (\\u0418\\u043d\\u0434\\u0438\\u044f);\\nRedmi 12 OS2.0.201.0.VMXEUXM (\\u0415\\u0432\\u0440\\u043e\\u043f\\u0430);\\nRedmi 13C / Poco C65 OS2.0.201.0.VGPEUXM (\\u0415\\u0432\\u0440\\u043e\\u043f\\u0430);\\nRedmi 13R / Redmi 13C 5G OS2.0.201.0.VGQEUXM (\\u0415\\u0432\\u0440\\u043e\\u043f\\u0430);\\nRedmi 14C / Poco C75 / Redmi A3 Pro OS2.0.202.0.VGTEUXM (\\u0415\\u0432\\u0440\\u043e\\u043f\\u0430);\\nXiaomi 13T Pro OS2.0.202.0.VMLEUXM (\\u0415\\u0432\\u0440\\u043e\\u043f\\u0430);\\nXiaomi 14T Pro OS2.0.202.0.VNNMIXM (\\u0413\\u043b\\u043e\\u0431\\u0430\\u043b\\u044c\\u043d\\u0430\\u044f \\u0432\\u0435\\u0440\\u0441\\u0438\\u044f);\\nXiaomi 14T Pro OS2.0.202.0.VNNRUXM (\\u0420\\u043e\\u0441\\u0441\\u0438\\u044f);\\nPoco F6 Pro OS2.0.201.0.VNKEUXM (\\u0415\\u0432\\u0440\\u043e\\u043f\\u0430);\\nPoco F6 Pro OS2.0.201.0.VNKMIXM (\\u0413\\u043b\\u043e\\u0431\\u0430\\u043b\\u044c\\u043d\\u0430\\u044f \\u0432\\u0435\\u0440\\u0441\\u0438\\u044f);\\nPoco F6 Pro OS2.0.202.0.VNKRUXM (\\u0420\\u043e\\u0441\\u0441\\u0438\\u044f);\\nPoco F6 Pro OS2.0.202.0.VNKTWXM (\\u0422\\u0430\\u0439\\u0432\\u0430\\u043d\\u044c);\\nPoco F7 Ultra OS2.0.202.0.VOMEUXM (\\u0415\\u0432\\u0440\\u043e\\u043f\\u0430);\\nRedmi Note 12 NFC 4G OS2.0.202.0.VMGEUXM (\\u0415\\u0432\\u0440\\u043e\\u043f\\u0430);\\nRedmi Note 12S OS2.0.201.0.VHZEUXM (\\u0415\\u0432\\u0440\\u043e\\u043f\\u0430);\\nRedmi Note 13 4G NFC OS2.0.201.0.VNHEUXM (\\u0415\\u0432\\u0440\\u043e\\u043f\\u0430);\\nRedmi Note 13 Pro 4G / Poco M6 Pro 4G OS2.0.202.0.VNFEUXM (\\u0415\\u0432\\u0440\\u043e\\u043f\\u0430);\\nRedmi Note 13 Pro 4G / Poco M6 Pro 4G OS2.0.202.0.VNFMIXM (\\u0413\\u043b\\u043e\\u0431\\u0430\\u043b\\u044c\\u043d\\u0430\\u044f \\u0432\\u0435\\u0440\\u0441\\u0438\\u044f);\\nRedmi Note 13 Pro+ OS2.0.201.0.VNOEUXM (\\u0415\\u0432\\u0440\\u043e\\u043f\\u0430);\\nRedmi Note 13 Pro+ OS2.0.201.0.VNOINXM (\\u0418\\u043d\\u0434\\u0438\\u044f);\\nRedmi Note 14 Pro 4G OS2.0.202.0.VOFEUXM (\\u0415\\u0432\\u0440\\u043e\\u043f\\u0430);\\nRedmi Note 14 Pro+ OS2.0.201.0.VOPINXM (\\u0418\\u043d\\u0434\\u0438\\u044f);\\nRedmi Note 14 Pro+ OS2.0.201.0.VOPMIXM (\\u0413\\u043b\\u043e\\u0431\\u0430\\u043b\\u044c\\u043d\\u0430\\u044f \\u0432\\u0435\\u0440\\u0441\\u0438\\u044f);\\nRedmi Note 14 Pro+ OS2.0.202.0.VOPEUXM (\\u0415\\u0432\\u0440\\u043e\\u043f\\u0430);\\nRedmi Note 14 Pro / Poco X7 OS2.0.202.0.VOOEUXM (\\u0415\\u0432\\u0440\\u043e\\u043f\\u0430);\\nRedmi Note 14 / Poco M7 Pro 5G OS2.0.202.0.VOQEUXM (\\u0415\\u0432\\u0440\\u043e\\u043f\\u0430);\\nRedmi Pad 2 4G OS2.0.201.0.VOWEUXM (\\u0415\\u0432\\u0440\\u043e\\u043f\\u0430);\\nRedmi Pad Pro 5G OS2.0.201.0.VFSEUXM (\\u0415\\u0432\\u0440\\u043e\\u043f\\u0430);\\nRedmi Pad Pro / Poco Pad OS2.0.202.0.VNSEUXM (\\u0415\\u0432\\u0440\\u043e\\u043f\\u0430);\\nRedmi Pad SE 4G OS2.0.201.0.VHYEUXM (\\u0415\\u0432\\u0440\\u043e\\u043f\\u0430);\\nRedmi Pad SE 8.7 Wi-Fi OS2.0.201.0.VHXEUXM (\\u0415\\u0432\\u0440\\u043e\\u043f\\u0430);\\nRedmi Turbo 4 / Poco X7 Pro OS2.0.201.0.VOJEUXM (\\u0415\\u0432\\u0440\\u043e\\u043f\\u0430);\\nXiaomi 15 Ultra OS2.0.202.0.VOARUXM (\\u0420\\u043e\\u0441\\u0441\\u0438\\u044f);\\nXiaomi MIX FLIP OS2.0.201.0.VNIEUXM (\\u0415\\u0432\\u0440\\u043e\\u043f\\u0430);\\nXiaomi Pad 6S Pro 12.4 OS2.0.201.0.VNXIDXM (\\u0418\\u043d\\u0434\\u043e\\u043d\\u0435\\u0437\\u0438\\u044f);\\nXiaomi Pad 6S Pro 12.4 OS2.0.201.0.VNXMIXM (\\u0413\\u043b\\u043e\\u0431\\u0430\\u043b\\u044c\\u043d\\u0430\\u044f \\u0432\\u0435\\u0440\\u0441\\u0438\\u044f);\\nXiaomi Pad 6S Pro 12.4 OS2.0.201.0.VNXRUXM (\\u0420\\u043e\\u0441\\u0441\\u0438\\u044f);\\nXiaomi Pad 6S Pro 12.4 OS2.0.202.0.VNXEUXM (\\u0415\\u0432\\u0440\\u043e\\u043f\\u0430).\\n\\u041f\\u043e \\u0434\\u0430\\u043d\\u043d\\u044b\\u043c XiaomiTime, \\u043a\\u043e\\u043c\\u043f\\u0430\\u043d\\u0438\\u044f \\u0441\\u043e\\u0431\\u0438\\u0440\\u0430\\u0435\\u0442\\u0441\\u044f \\u043e\\u0431\\u043d\\u043e\\u0432\\u0438\\u0442\\u044c \\u043f\\u043e\\u0447\\u0442\\u0438 100 \\u0443\\u0441\\u0442\\u0440\\u043e\\u0439\\u0441\\u0442\\u0432, \\u043f\\u043e\\u044d\\u0442\\u043e\\u043c\\u0443 \\u044d\\u0442\\u043e\\u0442 \\u043f\\u0435\\u0440\\u0435\\u0447\\u0435\\u043d\\u044c \\u044f\\u0432\\u043b\\u044f\\u0435\\u0442\\u0441\\u044f \\u043b\\u0438\\u0448\\u044c \\u0447\\u0430\\u0441\\u0442\\u044c\\u044e \\u043e\\u0431\\u0449\\u0435\\u0433\\u043e \\u0441\\u043f\\u0438\\u0441\\u043a\\u0430.HyperOS 2.2 \\u043f\\u0440\\u0438\\u043d\\u0435\\u0441\\u0451\\u0442 \\u043c\\u043d\\u043e\\u0436\\u0435\\u0441\\u0442\\u0432\\u043e \\u0443\\u043b\\u0443\\u0447\\u0448\\u0435\\u043d\\u0438\\u0439: \\u043f\\u043e\\u0432\\u044b\\u0448\\u0435\\u043d\\u043d\\u0443\\u044e \\u043f\\u043b\\u0430\\u0432\\u043d\\u043e\\u0441\\u0442\\u044c \\u0440\\u0430\\u0431\\u043e\\u0442\\u044b \\u0441\\u0438\\u0441\\u0442\\u0435\\u043c\\u044b, \\u0443\\u0441\\u043a\\u043e\\u0440\\u0435\\u043d\\u0438\\u0435 \\u0435\\u0451 \\u043f\\u0440\\u043e\\u0438\\u0437\\u0432\\u043e\\u0434\\u0438\\u0442\\u0435\\u043b\\u044c\\u043d\\u043e\\u0441\\u0442\\u0438, \\u043e\\u043f\\u0442\\u0438\\u043c\\u0438\\u0437\\u0430\\u0446\\u0438\\u044e \\u044d\\u043d\\u0435\\u0440\\u0433\\u043e\\u043f\\u043e\\u0442\\u0440\\u0435\\u0431\\u043b\\u0435\\u043d\\u0438\\u044f, \\u043d\\u043e\\u0432\\u044b\\u0435 \\u0444\\u0443\\u043d\\u043a\\u0446\\u0438\\u0438 \\u043d\\u0430 \\u043e\\u0441\\u043d\\u043e\\u0432\\u0435 \\u0438\\u0441\\u043a\\u0443\\u0441\\u0441\\u0442\\u0432\\u0435\\u043d\\u043d\\u043e\\u0433\\u043e \\u0438\\u043d\\u0442\\u0435\\u043b\\u043b\\u0435\\u043a\\u0442\\u0430, \\u0430 \\u0442\\u0430\\u043a\\u0436\\u0435 \\u0443\\u0441\\u043e\\u0432\\u0435\\u0440\\u0448\\u0435\\u043d\\u0441\\u0442\\u0432\\u043e\\u0432\\u0430\\u043d\\u043d\\u0443\\u044e \\u0441\\u0438\\u0441\\u0442\\u0435\\u043c\\u0443 \\u0443\\u0432\\u0435\\u0434\\u043e\\u043c\\u043b\\u0435\\u043d\\u0438\\u0439.\\u0427\\u0438\\u0442\\u0430\\u0439\\u0442\\u0435 \\u0442\\u0430\\u043a\\u0436\\u0435\\ud83e\\uddd0Apple \\u0443\\u0441\\u043b\\u044b\\u0448\\u0430\\u043b\\u0430 \\u0432\\u0430\\u0448\\u0438 \\u0436\\u0430\\u043b\\u043e\\u0431\\u044b: \\u043a\\u043e\\u043c\\u043f\\u0430\\u043d\\u0438\\u044f \\u0443\\u043b\\u0443\\u0447\\u0448\\u0438\\u043b\\u0430 \\u0447\\u0438\\u0442\\u0430\\u0435\\u043c\\u043e\\u0441\\u0442\\u044c iOS 26\\u041d\\u043e\\u0432\\u0430\\u044f \\u0444\\u0443\\u043d\\u043a\\u0446\\u0438\\u044f \\u0432 iOS 26 \\u043f\\u043e\\u0437\\u0432\\u043e\\u043b\\u0438\\u0442 \\u0432\\u043e\\u0441\\u0441\\u0442\\u0430\\u043d\\u043e\\u0432\\u0438\\u0442\\u044c \\u043b\\u044e\\u0431\\u043e\\u0439 iPhone \\u0431\\u0435\\u0437 Mac \\u0438\\u043b\\u0438 \\u041f\\u041aSamsung \\u043e\\u0431\\u044a\\u044f\\u0432\\u0438\\u043b\\u0430 \\u0434\\u0430\\u0442\\u0443 \\u043f\\u0440\\u0435\\u0437\\u0435\\u043d\\u0442\\u0430\\u0446\\u0438\\u0438 Galaxy Unpacked 2025 \\u2014 \\u043e\\u0436\\u0438\\u0434\\u0430\\u044e\\u0442\\u0441\\u044f \\u043d\\u043e\\u0432\\u044b\\u0435 \\u0440\\u0430\\u0441\\u043a\\u043b\\u0430\\u0434\\u0443\\u0448\\u043a\\u0438 \\u0438 \\u0447\\u0430\\u0441\\u044b\",\n          \"\\u0412 \\u0447\\u0451\\u043c \\u043f\\u0440\\u043e\\u0431\\u043b\\u0435\\u043c\\u0430 \\u043f\\u0440\\u043e\\u0441\\u0442\\u043e \\u0432\\u0437\\u044f\\u0442\\u044c \\u0438 \\u0443\\u0434\\u0430\\u043b\\u0438\\u0442\\u044c \\u043f\\u0440\\u043e\\u0433\\u0440\\u0430\\u043c\\u043c\\u0443\\u0415\\u0441\\u043b\\u0438 \\u0441\\u0442\\u0435\\u0440\\u0435\\u0442\\u044c \\u0442\\u043e\\u043b\\u044c\\u043a\\u043e \\u043f\\u0440\\u043e\\u0433\\u0440\\u0430\\u043c\\u043c\\u0443, \\u0432\\u044b \\u043c\\u043e\\u0436\\u0435\\u0442\\u0435 \\u043e\\u0441\\u0442\\u0430\\u0432\\u0438\\u0442\\u044c \\u043d\\u0430 \\u0434\\u0438\\u0441\\u043a\\u0435 \\u0441\\u0432\\u044f\\u0437\\u0430\\u043d\\u043d\\u044b\\u0435 \\u0441 \\u043d\\u0435\\u0439 \\u0444\\u0430\\u0439\\u043b\\u044b: \\u0434\\u0430\\u043d\\u043d\\u044b\\u0435 \\u0432\\u043e\\u0441\\u0441\\u0442\\u0430\\u043d\\u043e\\u0432\\u043b\\u0435\\u043d\\u0438\\u044f, \\u043b\\u043e\\u0433\\u0438, \\u043a\\u0435\\u0448 \\u0438 \\u0442\\u0430\\u043a \\u0434\\u0430\\u043b\\u0435\\u0435. \\u0412 \\u043d\\u0435\\u043a\\u043e\\u0442\\u043e\\u0440\\u044b\\u0445 \\u0441\\u043b\\u0443\\u0447\\u0430\\u044f\\u0445 \\u043d\\u0430 \\u041f\\u041a \\u0434\\u0430\\u0436\\u0435 \\u043e\\u0441\\u0442\\u0430\\u044e\\u0442\\u0441\\u044f \\u0441\\u0432\\u044f\\u0437\\u0430\\u043d\\u043d\\u044b\\u0435 \\u0441\\u043b\\u0443\\u0436\\u0431\\u044b \\u0438 \\u0438\\u0445 \\u0438\\u043a\\u043e\\u043d\\u043a\\u0438: \\u043d\\u0430\\u043f\\u0440\\u0438\\u043c\\u0435\\u0440, \\u0434\\u0435\\u0438\\u043d\\u0441\\u0442\\u0430\\u043b\\u043b\\u044f\\u0442\\u043e\\u0440\\u044b \\u0438\\u043b\\u0438 \\u0443\\u0442\\u0438\\u043b\\u0438\\u0442\\u044b \\u0441\\u0438\\u043d\\u0445\\u0440\\u043e\\u043d\\u0438\\u0437\\u0430\\u0446\\u0438\\u0438.\\u00a0\\u041e\\u0441\\u043d\\u043e\\u0432\\u043d\\u044b\\u0435 \\u043f\\u0440\\u043e\\u0431\\u043b\\u0435\\u043c\\u044b \\u0442\\u0430\\u043a\\u043e\\u0439 \\u043d\\u0435\\u043f\\u043e\\u043b\\u043d\\u043e\\u0439 \\u043e\\u0447\\u0438\\u0441\\u0442\\u043a\\u0438 \\u0441\\u0432\\u043e\\u0434\\u044f\\u0442\\u0441\\u044f \\u043a \\u0437\\u0430\\u0441\\u043e\\u0440\\u0435\\u043d\\u0438\\u044e \\u0434\\u0438\\u0441\\u043a\\u0430 \\u043d\\u0435\\u043d\\u0443\\u0436\\u043d\\u044b\\u043c\\u0438 \\u0444\\u0430\\u0439\\u043b\\u0430\\u043c\\u0438 (\\u043e\\u0431\\u044b\\u0447\\u043d\\u043e \\u0434\\u0430\\u0432\\u044f\\u0449\\u0438\\u043c\\u0438 \\u043a\\u043e\\u043b\\u0438\\u0447\\u0435\\u0441\\u0442\\u0432\\u043e\\u043c, \\u0430 \\u043d\\u0435 \\u0437\\u0430\\u043d\\u0438\\u043c\\u0430\\u0435\\u043c\\u043e\\u0439 \\u043f\\u0430\\u043c\\u044f\\u0442\\u044c\\u044e, \\u043d\\u043e \\u0431\\u044b\\u0432\\u0430\\u044e\\u0442 \\u0438 \\u0442\\u044f\\u0436\\u0435\\u043b\\u043e\\u0432\\u0435\\u0441\\u043d\\u044b\\u0435 \\u043e\\u0441\\u0442\\u0430\\u0442\\u043a\\u0438) \\u0438 \\u043b\\u0438\\u0448\\u043d\\u0438\\u043c \\u0444\\u043e\\u043d\\u043e\\u0432\\u044b\\u043c \\u043f\\u0440\\u043e\\u0446\\u0435\\u0441\\u0441\\u0430\\u043c \\u0432 \\u0441\\u043b\\u0443\\u0447\\u0430\\u0435, \\u043a\\u043e\\u0433\\u0434\\u0430 \\u0432 \\u0436\\u0438\\u0432\\u044b\\u0445 \\u043e\\u0441\\u0442\\u0430\\u043b\\u0438\\u0441\\u044c \\u0441\\u0432\\u044f\\u0437\\u0430\\u043d\\u043d\\u044b\\u0435 \\u0441\\u043b\\u0443\\u0436\\u0431\\u044b. \\u041f\\u0440\\u043e\\u0433\\u0440\\u0430\\u043c\\u043c\\u044b, \\u043c\\u043e\\u0436\\u0435\\u0442, \\u0434\\u0430\\u0432\\u043d\\u043e \\u0443\\u0436\\u0435 \\u043d\\u0435\\u0442, \\u0430 \\u043a\\u043e\\u043c\\u043f\\u044c\\u044e\\u0442\\u0435\\u0440 \\u0432 \\u0444\\u043e\\u043d\\u0435 \\u0432\\u0441\\u0451 \\u0440\\u0430\\u0432\\u043d\\u043e \\u043f\\u0440\\u043e\\u0432\\u0435\\u0440\\u044f\\u0435\\u0442 \\u043d\\u0430\\u043b\\u0438\\u0447\\u0438\\u0435 \\u043f\\u043e\\u0434\\u043f\\u0438\\u0441\\u043a\\u0438 \\u0438\\u043b\\u0438 \\u043e\\u0431\\u043d\\u043e\\u0432\\u043b\\u0435\\u043d\\u0438\\u044f. \\u0410 \\u043f\\u0440\\u0438 \\u0445\\u0443\\u0434\\u0448\\u0435\\u043c \\u0440\\u0430\\u0441\\u043a\\u043b\\u0430\\u0434\\u0435 \\u0435\\u0449\\u0451 \\u0438 \\u0434\\u043e\\u0441\\u0442\\u0430\\u0451\\u0442 \\u0443\\u0432\\u0435\\u0434\\u043e\\u043c\\u043b\\u0435\\u043d\\u0438\\u044f\\u043c\\u0438 \\u043e\\u0431 \\u043e\\u0448\\u0438\\u0431\\u043a\\u0430\\u0445.\\u041d\\u0435\\u043a\\u043e\\u0442\\u043e\\u0440\\u044b\\u0435 \\u043f\\u0440\\u043e\\u0433\\u0440\\u0430\\u043c\\u043c\\u044b \\u0441\\u043a\\u043b\\u043e\\u043d\\u043d\\u044b \\u0437\\u0430\\u0440\\u044b\\u0432\\u0430\\u0442\\u044c\\u0441\\u044f \\u0442\\u0430\\u043a \\u0433\\u043b\\u0443\\u0431\\u043e\\u043a\\u043e, \\u0447\\u0442\\u043e \\u0434\\u043b\\u044f \\u0447\\u0438\\u0441\\u0442\\u043a\\u0438 \\u043f\\u0440\\u0438\\u0434\\u0451\\u0442\\u0441\\u044f \\u043b\\u0435\\u0437\\u0442\\u044c \\u0432 \\u0434\\u0435\\u0441\\u044f\\u0442\\u043a\\u0438 \\u043f\\u0430\\u043f\\u043e\\u043a \\u0432\\u043d\\u0443\\u0442\\u0440\\u0438 \\u043f\\u0430\\u043f\\u043e\\u043a \\u0432\\u043d\\u0443\\u0442\\u0440\\u0438 \\u043f\\u0430\\u043f\\u043e\\u043a \\u2014 \\u0438 \\u0434\\u0430\\u0436\\u0435 \\u0442\\u0430\\u043a \\u043d\\u0435 \\u0444\\u0430\\u043a\\u0442, \\u0447\\u0442\\u043e \\u0432\\u044b\\u0447\\u0438\\u0441\\u0442\\u0438\\u0442\\u0435 \\u0430\\u0431\\u0441\\u043e\\u043b\\u044e\\u0442\\u043d\\u043e \\u0432\\u0441\\u0451. \\u0418 \\u0435\\u0441\\u043b\\u0438 \\u043f\\u043e \\u043f\\u043e\\u043f\\u0443\\u043b\\u044f\\u0440\\u043d\\u044b\\u043c \\u043f\\u0440\\u043e\\u0433\\u0440\\u0430\\u043c\\u043c\\u0430\\u043c \\u0432\\u0440\\u043e\\u0434\\u0435 Photoshop \\u0438 \\u0440\\u0430\\u0437\\u043d\\u044b\\u043c \\u043e\\u0444\\u0438\\u0441\\u0430\\u043c \\u0432 \\u0438\\u043d\\u0442\\u0435\\u0440\\u043d\\u0435\\u0442\\u0435 \\u0435\\u0441\\u0442\\u044c \\u0434\\u0435\\u0442\\u0430\\u043b\\u044c\\u043d\\u044b\\u0435 \\u0433\\u0430\\u0439\\u0434\\u044b \\u0441 \\u0434\\u0438\\u0440\\u0435\\u043a\\u0442\\u043e\\u0440\\u0438\\u044f\\u043c\\u0438, \\u043a\\u043e\\u0442\\u043e\\u0440\\u044b\\u0435 \\u043d\\u0443\\u0436\\u043d\\u043e \\u043f\\u043e\\u0434\\u0447\\u0438\\u0441\\u0442\\u0438\\u0442\\u044c, \\u0442\\u043e \\u0434\\u043b\\u044f \\u0431\\u043e\\u043b\\u0435\\u0435 \\u0441\\u043f\\u0435\\u0446\\u0438\\u0444\\u0438\\u0447\\u043d\\u043e\\u0433\\u043e \\u041f\\u041e \\u043f\\u043e\\u0434\\u043e\\u0431\\u043d\\u043e\\u0433\\u043e \\u043c\\u043e\\u0436\\u0435\\u0442 \\u043d\\u0435 \\u043d\\u0430\\u0439\\u0442\\u0438\\u0441\\u044c.\\u041f\\u0440\\u043e\\u0431\\u043b\\u0435\\u043c\\u0430 \\u0432 \\u0442\\u043e\\u043c, \\u0447\\u0442\\u043e \\u0443\\u0436\\u0435 \\u043f\\u043e\\u0441\\u043b\\u0435 \\u043d\\u0435\\u043f\\u0440\\u0430\\u0432\\u0438\\u043b\\u044c\\u043d\\u043e\\u0433\\u043e \\u0443\\u0434\\u0430\\u043b\\u0435\\u043d\\u0438\\u044f \\u043f\\u0440\\u043e\\u0433\\u0440\\u0430\\u043c\\u043c\\u044b \\u0441 \\u044d\\u0442\\u0438\\u043c \\u043c\\u0430\\u043b\\u043e \\u0447\\u0442\\u043e \\u043c\\u043e\\u0436\\u043d\\u043e \\u0441\\u0434\\u0435\\u043b\\u0430\\u0442\\u044c: \\u0435\\u0441\\u043b\\u0438 \\u0431\\u043e\\u043b\\u044c\\u0448\\u0438\\u0445 \\u0444\\u0430\\u0439\\u043b\\u043e\\u0432 \\u043d\\u0435 \\u043e\\u0441\\u0442\\u0430\\u043b\\u043e\\u0441\\u044c, \\u043f\\u0440\\u0438\\u0434\\u0451\\u0442\\u0441\\u044f \\u0440\\u0430\\u0431\\u043e\\u0442\\u0430\\u0442\\u044c \\u0440\\u0443\\u043a\\u0430\\u043c\\u0438 \\u0438\\u043b\\u0438 \\u043f\\u0440\\u043e\\u0441\\u0442\\u043e \\u043f\\u0440\\u0438\\u043d\\u044f\\u0442\\u044c \\u043b\\u0438\\u0448\\u043d\\u0438\\u0439 \\u043c\\u0443\\u0441\\u043e\\u0440 \\u043d\\u0430 \\u0434\\u0438\\u0441\\u043a\\u0435. \\u041f\\u043e\\u044d\\u0442\\u043e\\u043c\\u0443 \\u043b\\u0443\\u0447\\u0448\\u0435 \\u043d\\u0430\\u0443\\u0447\\u0438\\u0442\\u044c\\u0441\\u044f \\u0434\\u0435\\u043b\\u0430\\u0442\\u044c \\u0432\\u0441\\u0451 \\u043f\\u0440\\u0430\\u0432\\u0438\\u043b\\u044c\\u043d\\u043e \\u0441\\u0440\\u0430\\u0437\\u0443, \\u0447\\u0442\\u043e\\u0431\\u044b \\u043d\\u0435 \\u0441\\u0442\\u0440\\u0430\\u0434\\u0430\\u0442\\u044c \\u043f\\u043e\\u0442\\u043e\\u043c.\\u041a\\u0430\\u043a \\u043f\\u043e\\u043b\\u043d\\u043e\\u0441\\u0442\\u044c\\u044e \\u0443\\u0434\\u0430\\u043b\\u0438\\u0442\\u044c \\u043f\\u0440\\u043e\\u0433\\u0440\\u0430\\u043c\\u043c\\u0443 \\u043d\\u0430 Windows\\u041b\\u044e\\u0431\\u043e\\u0439 \\u0441\\u043f\\u043e\\u0441\\u043e\\u0431 \\u0438\\u0437 \\u043f\\u0435\\u0440\\u0435\\u0447\\u0438\\u0441\\u043b\\u0435\\u043d\\u043d\\u044b\\u0445 \\u043d\\u0435 \\u0442\\u0440\\u0435\\u0431\\u0443\\u0435\\u0442 \\u0431\\u043e\\u043b\\u044c\\u0448\\u043e\\u0433\\u043e \\u043a\\u043e\\u043b\\u0438\\u0447\\u0435\\u0441\\u0442\\u0432\\u0430 \\u0443\\u0441\\u0438\\u043b\\u0438\\u0439, \\u043d\\u043e \\u043f\\u0440\\u0438 \\u044d\\u0442\\u043e\\u043c \\u044d\\u0444\\u0444\\u0435\\u043a\\u0442\\u0438\\u0432\\u043d\\u0435\\u0435 \\u0443\\u0434\\u0430\\u043b\\u0435\\u043d\\u0438\\u044f EXE-\\u0444\\u0430\\u0439\\u043b\\u0430 \\u0438\\u043b\\u0438 \\u0432\\u043e\\u043e\\u0431\\u0449\\u0435 \\u0438\\u043a\\u043e\\u043d\\u043a\\u0438 (\\u043d\\u0435 \\u0434\\u0435\\u043b\\u0430\\u0439\\u0442\\u0435 \\u0442\\u0430\\u043a).\\u0421\\u043f\\u043e\\u0441\\u043e\\u0431 1: \\u043e\\u0444\\u0438\\u0446\\u0438\\u0430\\u043b\\u044c\\u043d\\u044b\\u0439 \\u0434\\u0435\\u0438\\u043d\\u0441\\u0442\\u0430\\u043b\\u043b\\u044f\\u0442\\u043e\\u0440\\u041d\\u0435\\u043a\\u043e\\u0442\\u043e\\u0440\\u044b\\u0435 \\u0440\\u0430\\u0437\\u0440\\u0430\\u0431\\u043e\\u0442\\u0447\\u0438\\u043a\\u0438 \\u0437\\u0430\\u0431\\u043e\\u0442\\u044f\\u0442\\u0441\\u044f \\u043e \\u043f\\u043e\\u043b\\u044c\\u0437\\u043e\\u0432\\u0430\\u0442\\u0435\\u043b\\u044f\\u0445 \\u0438 \\u043f\\u043e\\u0441\\u0442\\u0430\\u0432\\u043b\\u044f\\u044e\\u0442 \\u0432\\u043c\\u0435\\u0441\\u0442\\u0435 \\u0441 \\u043f\\u0440\\u043e\\u0433\\u0440\\u0430\\u043c\\u043c\\u043e\\u0439 \\u0443\\u0442\\u0438\\u043b\\u0438\\u0442\\u0443, \\u043a\\u043e\\u0442\\u043e\\u0440\\u0430\\u044f \\u0435\\u0451 \\u0443\\u0434\\u0430\\u043b\\u044f\\u0435\\u0442 \\u0438 \\u043f\\u043e\\u0434\\u0447\\u0438\\u0449\\u0430\\u0435\\u0442 \\u0444\\u0430\\u0439\\u043b\\u044b. \\u0415\\u0451 \\u043c\\u043e\\u0436\\u043d\\u043e \\u043d\\u0430\\u0439\\u0442\\u0438 \\u0432 \\u043f\\u0430\\u043f\\u043a\\u0435 \\u0441 \\u043f\\u0440\\u043e\\u0433\\u0440\\u0430\\u043c\\u043c\\u043e\\u0439: \\u0432 \\u043f\\u0440\\u043e\\u0432\\u043e\\u0434\\u043d\\u0438\\u043a\\u0435 \\u0432\\u044b\\u0431\\u0435\\u0440\\u0438\\u0442\\u0435 \\u0434\\u0438\\u0441\\u043a, \\u043d\\u0430 \\u043a\\u043e\\u0442\\u043e\\u0440\\u044b\\u0439 \\u0443\\u0441\\u0442\\u0430\\u043d\\u0430\\u0432\\u043b\\u0438\\u0432\\u0430\\u043b\\u0438 \\u041f\\u041e, \\u0438 \\u0438\\u0449\\u0438\\u0442\\u0435 \\u0438\\u043c\\u044f \\u043f\\u0440\\u0438\\u043b\\u043e\\u0436\\u0435\\u043d\\u0438\\u044f \\u0438\\u043b\\u0438 \\u0440\\u0430\\u0437\\u0440\\u0430\\u0431\\u043e\\u0442\\u0447\\u0438\\u043a\\u0430 \\u0432 \\u043f\\u0430\\u043f\\u043a\\u0430\\u0445 Program Files \\u0438 Program Files (x86).\\u0421\\u043a\\u0440\\u0438\\u043d\\u0448\\u043e\\u0442: \\u041b\\u0430\\u0439\\u0444\\u0445\\u0430\\u043a\\u0435\\u0440\\u0412\\u043d\\u0443\\u0442\\u0440\\u0438 \\u043c\\u043e\\u0436\\u0435\\u0442 \\u043e\\u043a\\u0430\\u0437\\u0430\\u0442\\u044c\\u0441\\u044f \\u043f\\u0440\\u0438\\u043b\\u043e\\u0436\\u0435\\u043d\\u0438\\u0435 \\u0438\\u043b\\u0438 \\u043f\\u0430\\u043f\\u043a\\u0430 \\u0441\\u043e \\u0441\\u043b\\u043e\\u0432\\u043e\\u043c Uninstall. \\u0412 \\u0441\\u043b\\u0443\\u0447\\u0430\\u0435 \\u0441 \\u043f\\u0430\\u043f\\u043a\\u043e\\u0439 \\u043d\\u0430\\u0437\\u0432\\u0430\\u043d\\u0438\\u0435 \\u0438\\u0441\\u043f\\u043e\\u043b\\u043d\\u044f\\u0435\\u043c\\u043e\\u0433\\u043e \\u0444\\u0430\\u0439\\u043b\\u0430 \\u043c\\u043e\\u0436\\u0435\\u0442 \\u0431\\u044b\\u0442\\u044c \\u043f\\u0440\\u0430\\u043a\\u0442\\u0438\\u0447\\u0435\\u0441\\u043a\\u0438 \\u043b\\u044e\\u0431\\u044b\\u043c, \\u0442\\u0430\\u043a \\u0447\\u0442\\u043e \\u0441\\u043c\\u043e\\u0442\\u0440\\u0438\\u0442\\u0435 \\u043f\\u043e \\u0442\\u0438\\u043f\\u0443: \\u043d\\u0430\\u0441 \\u0438\\u043d\\u0442\\u0435\\u0440\\u0435\\u0441\\u0443\\u0435\\u0442 \\u043f\\u0440\\u0438\\u043b\\u043e\\u0436\\u0435\\u043d\\u0438\\u0435.\\u0421\\u043a\\u0440\\u0438\\u043d\\u0448\\u043e\\u0442: \\u041b\\u0430\\u0439\\u0444\\u0445\\u0430\\u043a\\u0435\\u0440\\u0415\\u0441\\u043b\\u0438 \\u0434\\u0435\\u0438\\u043d\\u0441\\u0442\\u0430\\u043b\\u043b\\u044f\\u0442\\u043e\\u0440 \\u043d\\u0430\\u0448\\u0451\\u043b\\u0441\\u044f, \\u044d\\u0442\\u043e \\u0434\\u0436\\u0435\\u043a\\u043f\\u043e\\u0442: \\u0437\\u0430\\u043f\\u0443\\u0441\\u043a\\u0430\\u0439\\u0442\\u0435 \\u0438 \\u0441\\u043b\\u0435\\u0434\\u0443\\u0439\\u0442\\u0435 \\u0438\\u043d\\u0441\\u0442\\u0440\\u0443\\u043a\\u0446\\u0438\\u044f\\u043c \\u043d\\u0430 \\u044d\\u043a\\u0440\\u0430\\u043d\\u0435.\\u0421\\u043a\\u0440\\u0438\\u043d\\u0448\\u043e\\u0442: \\u041b\\u0430\\u0439\\u0444\\u0445\\u0430\\u043a\\u0435\\u0440\\u0412 \\u0446\\u0435\\u043b\\u043e\\u043c \\u044d\\u0442\\u043e \\u043b\\u0443\\u0447\\u0448\\u0438\\u0439 \\u0438 \\u0441\\u0430\\u043c\\u044b\\u0439 \\u043f\\u0440\\u043e\\u0441\\u0442\\u043e\\u0439 \\u0438\\u0441\\u0445\\u043e\\u0434, \\u043f\\u043e\\u0442\\u043e\\u043c\\u0443 \\u0447\\u0442\\u043e \\u0432 \\u043d\\u0430\\u0441\\u0442\\u0440\\u043e\\u0439\\u043a\\u0430\\u0445 \\u0434\\u0435\\u0438\\u043d\\u0441\\u0442\\u0430\\u043b\\u043b\\u044f\\u0442\\u043e\\u0440\\u0430 \\u043f\\u0440\\u043e\\u043f\\u0438\\u0441\\u044b\\u0432\\u0430\\u0435\\u0442\\u0441\\u044f, \\u0447\\u0442\\u043e \\u0438 \\u043e\\u0442\\u043a\\u0443\\u0434\\u0430 \\u0443\\u0434\\u0430\\u043b\\u044f\\u0442\\u044c, \\u2014 \\u0430 \\u043a\\u043e\\u043c\\u0443, \\u043a\\u0430\\u043a \\u043d\\u0435 \\u0440\\u0430\\u0437\\u0440\\u0430\\u0431\\u043e\\u0442\\u0447\\u0438\\u043a\\u0430\\u043c, \\u043b\\u0443\\u0447\\u0448\\u0435 \\u0432\\u0441\\u0435\\u0433\\u043e \\u0437\\u043d\\u0430\\u0442\\u044c, \\u043a\\u0443\\u0434\\u0430 \\u043b\\u0435\\u0437\\u0435\\u0442 \\u0438\\u0445 \\u043f\\u0440\\u0438\\u043b\\u043e\\u0436\\u0435\\u043d\\u0438\\u0435. \\u041c\\u0438\\u043d\\u0443\\u0441 \\u0442\\u043e\\u043b\\u044c\\u043a\\u043e \\u043e\\u0434\\u0438\\u043d: \\u043e\\u043f\\u0446\\u0438\\u044f \\u0434\\u043e\\u0441\\u0442\\u0443\\u043f\\u043d\\u0430 \\u0434\\u0430\\u043b\\u0435\\u043a\\u043e \\u043d\\u0435 \\u0434\\u043b\\u044f \\u0432\\u0441\\u0435\\u0445 \\u043f\\u0440\\u043e\\u0433\\u0440\\u0430\\u043c\\u043c.\\u00a0\\u0421\\u043f\\u043e\\u0441\\u043e\\u0431 2: \\u0447\\u0435\\u0440\\u0435\\u0437 \\u043c\\u0435\\u043d\\u044e \\u00ab\\u0423\\u0441\\u0442\\u0430\\u043d\\u043e\\u0432\\u043b\\u0435\\u043d\\u043d\\u044b\\u0435 \\u043f\\u0440\\u0438\\u043b\\u043e\\u0436\\u0435\\u043d\\u0438\\u044f\\u00bb\\u00a0\\u0412 Windows \\u0435\\u0441\\u0442\\u044c \\u043d\\u0435\\u043f\\u043b\\u043e\\u0445\\u0430\\u044f \\u0432\\u0441\\u0442\\u0440\\u043e\\u0435\\u043d\\u043d\\u0430\\u044f \\u0441\\u0438\\u0441\\u0442\\u0435\\u043c\\u0430 \\u0443\\u0434\\u0430\\u043b\\u0435\\u043d\\u0438\\u044f \\u043f\\u0440\\u043e\\u0433\\u0440\\u0430\\u043c\\u043c, \\u043a\\u043e\\u0442\\u043e\\u0440\\u0430\\u044f \\u0432 \\u0431\\u043e\\u043b\\u044c\\u0448\\u0438\\u043d\\u0441\\u0442\\u0432\\u0435 \\u0441\\u043b\\u0443\\u0447\\u0430\\u0435\\u0432 \\u0441\\u043f\\u0440\\u0430\\u0432\\u043b\\u044f\\u0435\\u0442\\u0441\\u044f \\u0441 \\u0437\\u0430\\u0447\\u0438\\u0441\\u0442\\u043a\\u043e\\u0439 \\u043e\\u0441\\u0442\\u0430\\u0442\\u043e\\u0447\\u043d\\u044b\\u0445 \\u0444\\u0430\\u0439\\u043b\\u043e\\u0432 \\u2014 \\u043f\\u043e \\u043a\\u0440\\u0430\\u0439\\u043d\\u0435\\u0439 \\u043c\\u0435\\u0440\\u0435, \\u0441\\u0430\\u043c\\u044b\\u0445 \\u043a\\u0440\\u0443\\u043f\\u043d\\u044b\\u0445.\\u0421\\u043a\\u0440\\u0438\\u043d\\u0448\\u043e\\u0442: \\u041b\\u0430\\u0439\\u0444\\u0445\\u0430\\u043a\\u0435\\u0440\\u041d\\u0430\\u0436\\u043c\\u0438\\u0442\\u0435 \\u043d\\u0430 \\u043a\\u043d\\u043e\\u043f\\u043a\\u0443 \\u00ab\\u041f\\u0443\\u0441\\u043a\\u00bb \\u0438 \\u043e\\u0442\\u043a\\u0440\\u043e\\u0439\\u0442\\u0435 \\u00ab\\u041f\\u0430\\u0440\\u0430\\u043c\\u0435\\u0442\\u0440\\u044b\\u00bb. \\n\\u0412\\u044b\\u0431\\u0435\\u0440\\u0438\\u0442\\u0435 \\u043d\\u0430 \\u043b\\u0435\\u0432\\u043e\\u0439 \\u043f\\u0430\\u043d\\u0435\\u043b\\u0438 \\u0440\\u0430\\u0437\\u0434\\u0435\\u043b \\u00ab\\u041f\\u0440\\u0438\\u043b\\u043e\\u0436\\u0435\\u043d\\u0438\\u044f\\u00bb \\u0438 \\u043d\\u0430\\u0436\\u043c\\u0438\\u0442\\u0435 \\u043d\\u0430 \\u00ab\\u0423\\u0441\\u0442\\u0430\\u043d\\u043e\\u0432\\u043b\\u0435\\u043d\\u043d\\u044b\\u0435 \\u043f\\u0440\\u0438\\u043b\\u043e\\u0436\\u0435\\u043d\\u0438\\u044f\\u00bb.\\n\\u041d\\u0430\\u0439\\u0434\\u0438\\u0442\\u0435 \\u043d\\u0443\\u0436\\u043d\\u0443\\u044e \\u043f\\u0440\\u043e\\u0433\\u0440\\u0430\\u043c\\u043c\\u0443 \\u0432 \\u0441\\u043f\\u0438\\u0441\\u043a\\u0435 \\u0438\\u043b\\u0438 \\u0447\\u0435\\u0440\\u0435\\u0437 \\u043f\\u043e\\u0438\\u0441\\u043a, \\u043d\\u0430\\u0436\\u043c\\u0438\\u0442\\u0435 \\u043d\\u0430 \\u0442\\u0440\\u0438 \\u0442\\u043e\\u0447\\u043a\\u0438 \\u0438 \\u0432\\u044b\\u0431\\u0435\\u0440\\u0438\\u0442\\u0435 \\u00ab\\u0423\\u0434\\u0430\\u043b\\u0438\\u0442\\u044c\\u00bb.\\n\\u0421\\u043f\\u043e\\u0441\\u043e\\u0431 \\u0445\\u043e\\u0440\\u043e\\u0448 \\u0441\\u0432\\u043e\\u0435\\u0439 \\u043f\\u0440\\u043e\\u0441\\u0442\\u043e\\u0442\\u043e\\u0439 \\u0438 \\u0432\\u043e\\u0437\\u043c\\u043e\\u0436\\u043d\\u043e\\u0441\\u0442\\u044c\\u044e \\u0431\\u044b\\u0441\\u0442\\u0440\\u043e \\u043d\\u0430\\u0439\\u0442\\u0438 \\u0441\\u0432\\u044f\\u0437\\u0430\\u043d\\u043d\\u044b\\u0435 \\u043a\\u043e\\u043c\\u043f\\u043e\\u043d\\u0435\\u043d\\u0442\\u044b. \\u041d\\u0430\\u043f\\u0440\\u0438\\u043c\\u0435\\u0440, \\u043d\\u0430 \\u0441\\u043a\\u0440\\u0438\\u043d\\u0448\\u043e\\u0442\\u0435 \\u0432\\u044b\\u0448\\u0435 \\u0432\\u0438\\u0434\\u043d\\u043e, \\u0447\\u0442\\u043e \\u043f\\u043e\\u043c\\u0438\\u043c\\u043e \\u0431\\u0440\\u0430\\u0443\\u0437\\u0435\\u0440\\u0430 Firefox \\u043d\\u0430 \\u043a\\u043e\\u043c\\u043f\\u044c\\u044e\\u0442\\u0435\\u0440\\u0435 \\u0443\\u0441\\u0442\\u0430\\u043d\\u043e\\u0432\\u043b\\u0435\\u043d\\u0430 \\u0435\\u0449\\u0451 \\u043e\\u0434\\u043d\\u0430 \\u0443\\u0442\\u0438\\u043b\\u0438\\u0442\\u0430 \\u043e\\u0442 \\u0442\\u0435\\u0445 \\u0436\\u0435 \\u0440\\u0430\\u0437\\u0440\\u0430\\u0431\\u043e\\u0442\\u0447\\u0438\\u043a\\u043e\\u0432. \\u041c\\u0438\\u043d\\u0443\\u0441 \\u0436\\u0435 \\u0437\\u0430\\u043a\\u043b\\u044e\\u0447\\u0430\\u0435\\u0442\\u0441\\u044f \\u0432 \\u0442\\u043e\\u043c, \\u0447\\u0442\\u043e \\u0442\\u0430\\u043a\\u0438\\u043c \\u0441\\u043f\\u043e\\u0441\\u043e\\u0431\\u043e\\u043c \\u043d\\u0435 \\u043e\\u0447\\u0438\\u0441\\u0442\\u044f\\u0442\\u0441\\u044f \\u043e\\u0441\\u0442\\u0430\\u0442\\u043e\\u0447\\u043d\\u044b\\u0435 \\u0444\\u0430\\u0439\\u043b\\u044b \\u043f\\u0440\\u043e\\u0433\\u0440\\u0430\\u043c\\u043c, \\u043a\\u043e\\u0442\\u043e\\u0440\\u044b\\u0435 \\u043e\\u0441\\u043e\\u0431\\u0435\\u043d\\u043d\\u043e \\u0433\\u043b\\u0443\\u0431\\u043e\\u043a\\u043e \\u043f\\u0443\\u0441\\u043a\\u0430\\u044e\\u0442 \\u043a\\u043e\\u0440\\u043d\\u0438, \\u2014 \\u043f\\u0440\\u0438\\u0434\\u0451\\u0442\\u0441\\u044f \\u0434\\u043e\\u0447\\u0438\\u0449\\u0430\\u0442\\u044c \\u0432\\u0440\\u0443\\u0447\\u043d\\u0443\\u044e.\\u0421\\u043f\\u043e\\u0441\\u043e\\u0431 3: \\u043f\\u0440\\u0438\\u043b\\u043e\\u0436\\u0435\\u043d\\u0438\\u044f-\\u0434\\u0435\\u0438\\u043d\\u0441\\u0442\\u0430\\u043b\\u043b\\u044f\\u0442\\u043e\\u0440\\u044b\\u041d\\u0430 Windows \\u0445\\u0432\\u0430\\u0442\\u0430\\u0435\\u0442 \\u043f\\u0440\\u0438\\u043b\\u043e\\u0436\\u0435\\u043d\\u0438\\u0439, \\u043d\\u0430\\u0446\\u0435\\u043b\\u0435\\u043d\\u043d\\u044b\\u0445 \\u043d\\u0430 \\u043f\\u043e\\u043c\\u043e\\u0449\\u044c \\u0441 \\u043f\\u043e\\u043b\\u043d\\u044b\\u043c \\u0443\\u0434\\u0430\\u043b\\u0435\\u043d\\u0438\\u0435\\u043c \\u0443\\u0441\\u0442\\u0430\\u043d\\u043e\\u0432\\u043b\\u0435\\u043d\\u043d\\u043e\\u0433\\u043e \\u0434\\u043e\\u0431\\u0440\\u0430, \\u0432 \\u0442\\u043e\\u043c \\u0447\\u0438\\u0441\\u043b\\u0435 \\u0441 \\u0431\\u0435\\u0441\\u043f\\u043b\\u0430\\u0442\\u043d\\u044b\\u043c\\u0438 \\u043e\\u043f\\u0446\\u0438\\u044f\\u043c\\u0438. \\u041c\\u044b \\u0443\\u0436\\u0435 \\u0440\\u0430\\u0441\\u0441\\u043a\\u0430\\u0437\\u044b\\u0432\\u0430\\u043b\\u0438 \\u043f\\u0440\\u043e \\u0440\\u0430\\u0437\\u043d\\u044b\\u0435 \\u0432\\u0430\\u0440\\u0438\\u0430\\u043d\\u0442\\u044b \\u0432 \\u043e\\u0442\\u0434\\u0435\\u043b\\u044c\\u043d\\u043e\\u0439 \\u0441\\u0442\\u0430\\u0442\\u044c\\u0435, \\u043d\\u043e \\u043a\\u0430\\u043a \\u0443\\u043d\\u0438\\u0432\\u0435\\u0440\\u0441\\u0430\\u043b\\u044c\\u043d\\u044b\\u0439 \\u043d\\u0435\\u043f\\u043b\\u043e\\u0445\\u043e\\u0439 \\u0432\\u0430\\u0440\\u0438\\u0430\\u043d\\u0442 \\u043f\\u043e\\u0441\\u043e\\u0432\\u0435\\u0442\\u0443\\u0435\\u043c Revo Uninstaller. \\u0421\\u043a\\u0440\\u0438\\u043d\\u0448\\u043e\\u0442: Revo Uninstaller\\u0412 \\u0431\\u0435\\u0441\\u043f\\u043b\\u0430\\u0442\\u043d\\u043e\\u0439 \\u0432\\u0435\\u0440\\u0441\\u0438\\u0438 \\u043e\\u043d \\u0443\\u043c\\u0435\\u0435\\u0442 \\u043f\\u043e\\u0434\\u0447\\u0438\\u0449\\u0430\\u0442\\u044c \\u043f\\u0440\\u043e\\u0433\\u0440\\u0430\\u043c\\u043c\\u044b \\u0441\\u043e \\u0432\\u0441\\u0435\\u043c\\u0438 \\u0445\\u0432\\u043e\\u0441\\u0442\\u0430\\u043c\\u0438, \\u043f\\u0440\\u0438\\u0447\\u0451\\u043c \\u043f\\u0435\\u0440\\u0435\\u0434 \\u0443\\u0434\\u0430\\u043b\\u0435\\u043d\\u0438\\u0435\\u043c \\u0432\\u0441\\u0435\\u0433\\u0434\\u0430 \\u0434\\u0435\\u043b\\u0430\\u0435\\u0442 \\u0431\\u044d\\u043a\\u0430\\u043f \\u043d\\u0430 \\u0441\\u043b\\u0443\\u0447\\u0430\\u0439, \\u0435\\u0441\\u043b\\u0438 \\u043f\\u0435\\u0440\\u0435\\u0441\\u0442\\u0430\\u0440\\u0430\\u0435\\u0442\\u0441\\u044f \\u0438 \\u0441\\u043b\\u0443\\u0447\\u0430\\u0439\\u043d\\u043e \\u0441\\u043b\\u043e\\u043c\\u0430\\u0435\\u0442 \\u0440\\u0430\\u0431\\u043e\\u0442\\u0443 \\u0434\\u0440\\u0443\\u0433\\u043e\\u0433\\u043e \\u043f\\u0440\\u0438\\u043b\\u043e\\u0436\\u0435\\u043d\\u0438\\u044f, \\u0443\\u0434\\u0430\\u043b\\u0438\\u0432 \\u043e\\u0431\\u0449\\u0438\\u0435 \\u0444\\u0430\\u0439\\u043b\\u044b. \\u0413\\u043b\\u0430\\u0432\\u043d\\u0430\\u044f \\u0444\\u0438\\u0448\\u043a\\u0430 \\u043f\\u043b\\u0430\\u0442\\u043d\\u043e\\u0439 \\u0432\\u0435\\u0440\\u0441\\u0438\\u0438 \\u2014 \\u0447\\u0438\\u0441\\u0442\\u043a\\u0430 \\u043e\\u0441\\u0442\\u0430\\u0442\\u043e\\u0447\\u043d\\u044b\\u0445 \\u0444\\u0430\\u0439\\u043b\\u043e\\u0432 \\u043e\\u0442 \\u0440\\u0430\\u043d\\u0435\\u0435 \\u0443\\u0434\\u0430\\u043b\\u0451\\u043d\\u043d\\u044b\\u0445 \\u043f\\u0440\\u043e\\u0433\\u0440\\u0430\\u043c\\u043c \\u0438 \\u0440\\u0430\\u0441\\u0448\\u0438\\u0440\\u0435\\u043d\\u043d\\u043e\\u0435 \\u0441\\u043a\\u0430\\u043d\\u0438\\u0440\\u043e\\u0432\\u0430\\u043d\\u0438\\u0435.\\u0414\\u0435\\u0438\\u043d\\u0441\\u0442\\u0430\\u043b\\u043b\\u044f\\u0442\\u043e\\u0440\\u044b \\u0445\\u043e\\u0440\\u043e\\u0448\\u0438 \\u0442\\u0435\\u043c, \\u0447\\u0442\\u043e \\u043c\\u0430\\u043a\\u0441\\u0438\\u043c\\u0430\\u043b\\u044c\\u043d\\u043e \\u0443\\u043f\\u0440\\u043e\\u0449\\u0430\\u044e\\u0442 \\u0436\\u0438\\u0437\\u043d\\u044c: \\u043e\\u043d\\u0438 \\u0437\\u043d\\u0430\\u044e\\u0442, \\u0433\\u0434\\u0435 \\u0438\\u0441\\u043a\\u0430\\u0442\\u044c \\u043e\\u0441\\u0442\\u0430\\u0442\\u043e\\u0447\\u043d\\u044b\\u0435 \\u0444\\u0430\\u0439\\u043b\\u044b, \\u0438 \\u0434\\u0435\\u043b\\u0430\\u044e\\u0442 \\u044d\\u0442\\u043e \\u043e\\u0447\\u0435\\u043d\\u044c \\u0431\\u044b\\u0441\\u0442\\u0440\\u043e. \\u0413\\u043b\\u0430\\u0432\\u043d\\u0430\\u044f \\u0436\\u0435 \\u0438\\u0445 \\u043f\\u0440\\u043e\\u0431\\u043b\\u0435\\u043c\\u0430 \\u2014 \\u0431\\u043e\\u043b\\u044c\\u0448\\u0438\\u043d\\u0441\\u0442\\u0432\\u043e \\u043f\\u0440\\u043e\\u0433\\u0440\\u0430\\u043c\\u043c \\u043b\\u0438\\u0431\\u043e \\u043f\\u043e\\u043b\\u043d\\u043e\\u0441\\u0442\\u044c\\u044e \\u043f\\u043b\\u0430\\u0442\\u043d\\u044b\\u0435, \\u043b\\u0438\\u0431\\u043e \\u0442\\u0440\\u0435\\u0431\\u0443\\u044e\\u0442 \\u043e\\u043f\\u043b\\u0430\\u0442\\u0443 \\u0437\\u0430 \\u0434\\u043e\\u0441\\u0442\\u0443\\u043f \\u043a \\u043f\\u043e\\u043b\\u043d\\u043e\\u0439 \\u0432\\u0435\\u0440\\u0441\\u0438\\u0438, \\u043f\\u0440\\u0438\\u0447\\u0451\\u043c \\u0437\\u0430\\u0447\\u0430\\u0441\\u0442\\u0443\\u044e \\u0431\\u0435\\u0437 \\u0432\\u043e\\u0437\\u043c\\u043e\\u0436\\u043d\\u043e\\u0441\\u0442\\u0438 \\u043e\\u043f\\u043b\\u0430\\u0442\\u044b \\u0440\\u043e\\u0441\\u0441\\u0438\\u0439\\u0441\\u043a\\u0438\\u043c\\u0438 \\u043a\\u0430\\u0440\\u0442\\u0430\\u043c\\u0438. \\u0410 \\u043d\\u0430 \\u0441\\u043e\\u043c\\u043d\\u0438\\u0442\\u0435\\u043b\\u044c\\u043d\\u044b\\u0445 \\u0440\\u0435\\u0441\\u0443\\u0440\\u0441\\u0430\\u0445 \\u0442\\u0430\\u043a\\u043e\\u0435 \\u041f\\u041e \\u0441\\u043a\\u0430\\u0447\\u0438\\u0432\\u0430\\u0442\\u044c \\u043e\\u043f\\u0430\\u0441\\u043d\\u043e, \\u043f\\u043e\\u0442\\u043e\\u043c\\u0443 \\u0447\\u0442\\u043e \\u0432\\u044b \\u0440\\u0438\\u0441\\u043a\\u0443\\u0435\\u0442\\u0435 \\u0432\\u044b\\u0434\\u0430\\u0442\\u044c \\u043f\\u043e\\u0442\\u0435\\u043d\\u0446\\u0438\\u0430\\u043b\\u044c\\u043d\\u043e \\u0437\\u0430\\u0440\\u0430\\u0436\\u0451\\u043d\\u043d\\u043e\\u0439 \\u043f\\u0440\\u043e\\u0433\\u0440\\u0430\\u043c\\u043c\\u0435 \\u043f\\u0440\\u0430\\u043a\\u0442\\u0438\\u0447\\u0435\\u0441\\u043a\\u0438 \\u043f\\u043e\\u043b\\u043d\\u044b\\u0439 \\u0434\\u043e\\u0441\\u0442\\u0443\\u043f \\u043a\\u00a0\\u0434\\u0438\\u0441\\u043a\\u0443.\\u0421\\u043f\\u043e\\u0441\\u043e\\u0431 4: \\u0440\\u0443\\u0447\\u043d\\u0430\\u044f \\u0447\\u0438\\u0441\\u0442\\u043a\\u0430\\u0415\\u0441\\u043b\\u0438 \\u0432\\u044b \\u0443\\u0436\\u0435 \\u0443\\u0434\\u0430\\u043b\\u0438\\u043b\\u0438 \\u043f\\u0440\\u043e\\u0433\\u0440\\u0430\\u043c\\u043c\\u0443 \\u0438 \\u0443 \\u0432\\u0430\\u0441 \\u043d\\u0435\\u0442 \\u0434\\u0435\\u0438\\u043d\\u0441\\u0442\\u0430\\u043b\\u043b\\u044f\\u0442\\u043e\\u0440\\u0430, \\u043a\\u043e\\u0442\\u043e\\u0440\\u044b\\u0439 \\u043c\\u043e\\u0436\\u0435\\u0442 \\u043f\\u043e\\u0438\\u0441\\u043a\\u0430\\u0442\\u044c \\u043e\\u0441\\u0442\\u0430\\u0442\\u043e\\u0447\\u043d\\u044b\\u0435 \\u0444\\u0430\\u0439\\u043b\\u044b, \\u043f\\u0440\\u0438\\u0434\\u0451\\u0442\\u0441\\u044f \\u043f\\u043e\\u0440\\u0430\\u0431\\u043e\\u0442\\u0430\\u0442\\u044c \\u0440\\u0443\\u043a\\u0430\\u043c\\u0438.\\u00a0\\u0412\\u0430\\u0436\\u043d\\u044b\\u0439 \\u0434\\u0438\\u0441\\u043a\\u043b\\u0435\\u0439\\u043c\\u0435\\u0440: \\u0435\\u0441\\u043b\\u0438 \\u0441\\u043e\\u043c\\u043d\\u0435\\u0432\\u0430\\u0435\\u0442\\u0435\\u0441\\u044c \\u0432 \\u0441\\u0432\\u043e\\u0438\\u0445 \\u0441\\u0438\\u043b\\u0430\\u0445 \\u0438 \\u0441\\u043b\\u0430\\u0431\\u043e \\u043f\\u043e\\u043d\\u0438\\u043c\\u0430\\u0435\\u0442\\u0435, \\u0447\\u0442\\u043e \\u0434\\u0435\\u043b\\u0430\\u0435\\u0442\\u0435, \\u043b\\u0443\\u0447\\u0448\\u0435 \\u043d\\u0435 \\u0440\\u0438\\u0441\\u043a\\u043e\\u0432\\u0430\\u0442\\u044c \\u0438 \\u043d\\u0435 \\u0442\\u0440\\u043e\\u0433\\u0430\\u0442\\u044c \\u0444\\u0430\\u0439\\u043b\\u044b.\\u00a0\\u0411\\u0435\\u0437\\u0434\\u0443\\u043c\\u043d\\u043e\\u0435 \\u0443\\u0434\\u0430\\u043b\\u0435\\u043d\\u0438\\u0435 \\u043c\\u043e\\u0436\\u0435\\u0442 \\u0437\\u0430\\u0442\\u0440\\u043e\\u043d\\u0443\\u0442\\u044c \\u0440\\u0430\\u0431\\u043e\\u0442\\u0443 \\u0434\\u0440\\u0443\\u0433\\u0438\\u0445 \\u043f\\u0440\\u043e\\u0433\\u0440\\u0430\\u043c\\u043c, \\u0430 \\u0435\\u0441\\u043b\\u0438 \\u0440\\u0435\\u0447\\u044c \\u043e \\u0434\\u0438\\u0441\\u043a\\u0435 C, \\u0435\\u0441\\u0442\\u044c \\u0440\\u0438\\u0441\\u043a \\u0437\\u0430\\u0434\\u0435\\u0442\\u044c \\u0438 \\u0441\\u0438\\u0441\\u0442\\u0435\\u043c\\u043d\\u044b\\u0435 \\u0444\\u0430\\u0439\\u043b\\u044b. \\u041d\\u0435 \\u0437\\u0430\\u0431\\u044b\\u0432\\u0430\\u0439\\u0442\\u0435, \\u0447\\u0442\\u043e, \\u043a \\u043f\\u0440\\u0438\\u043c\\u0435\\u0440\\u0443, Adobe \\u2014 \\u044d\\u0442\\u043e \\u043d\\u0435 \\u0442\\u043e\\u043b\\u044c\\u043a\\u043e Photoshop, \\u043d\\u043e \\u0442\\u0430\\u043a\\u0436\\u0435 Acrobat, Flash Player \\u0438 \\u0442\\u0430\\u043a\\u00a0\\u0434\\u0430\\u043b\\u0435\\u0435.\\u0421\\u0430\\u043c\\u043e\\u0435 \\u043f\\u0440\\u043e\\u0441\\u0442\\u043e\\u0435, \\u0447\\u0442\\u043e \\u043c\\u043e\\u0436\\u043d\\u043e \\u0441\\u0434\\u0435\\u043b\\u0430\\u0442\\u044c, \\u2014 \\u0432 \\u00ab\\u041f\\u0440\\u043e\\u0432\\u043e\\u0434\\u043d\\u0438\\u043a\\u0435\\u00bb \\u043e\\u0442\\u043a\\u0440\\u044b\\u0442\\u044c \\u0434\\u0438\\u0441\\u043a, \\u043d\\u0430 \\u043a\\u043e\\u0442\\u043e\\u0440\\u044b\\u0439 \\u0443\\u0441\\u0442\\u0430\\u043d\\u0430\\u0432\\u043b\\u0438\\u0432\\u0430\\u043b\\u0438 \\u043f\\u0440\\u043e\\u0433\\u0440\\u0430\\u043c\\u043c\\u0443 (\\u043e\\u0431\\u044b\\u0447\\u043d\\u043e \\u044d\\u0442\\u043e \\u0434\\u0438\\u0441\\u043a C) \\u0438 \\u043f\\u043e\\u0438\\u0441\\u043a\\u0430\\u0442\\u044c \\u0432 \\u0440\\u0430\\u0437\\u0434\\u0435\\u043b\\u0430\\u0445 Program Files \\u0438 Program Files (x86) \\u043f\\u0430\\u043f\\u043a\\u0438 \\u0441 \\u043d\\u0430\\u0437\\u0432\\u0430\\u043d\\u0438\\u0435\\u043c \\u0443\\u0434\\u0430\\u043b\\u0451\\u043d\\u043d\\u043e\\u0439 \\u043f\\u0440\\u043e\\u0433\\u0440\\u0430\\u043c\\u043c\\u044b. \\u0415\\u0441\\u043b\\u0438 \\u0442\\u0430\\u043c \\u0447\\u0442\\u043e-\\u0442\\u043e \\u043e\\u0441\\u0442\\u0430\\u043b\\u043e\\u0441\\u044c \\u0438 \\u0443 \\u0432\\u0430\\u0441 \\u0442\\u043e\\u0447\\u043d\\u043e \\u043d\\u0435\\u0442 \\u0434\\u0440\\u0443\\u0433\\u0438\\u0445 \\u043f\\u0440\\u043e\\u0433\\u0440\\u0430\\u043c\\u043c \\u043e\\u0442 \\u044d\\u0442\\u043e\\u0433\\u043e \\u0440\\u0430\\u0437\\u0440\\u0430\\u0431\\u043e\\u0442\\u0447\\u0438\\u043a\\u0430, \\u043c\\u043e\\u0436\\u043d\\u043e \\u0443\\u0434\\u0430\\u043b\\u0438\\u0442\\u044c \\u044d\\u0442\\u0438 \\u043f\\u0430\\u043f\\u043a\\u0438 \\u0438 \\u0438\\u0445 \\u0441\\u043e\\u0434\\u0435\\u0440\\u0436\\u0438\\u043c\\u043e\\u0435.\\u0421\\u043a\\u0440\\u0438\\u043d\\u0448\\u043e\\u0442: \\u041b\\u0430\\u0439\\u0444\\u0445\\u0430\\u043a\\u0435\\u0440\\u0414\\u0430\\u043b\\u0435\\u0435 \\u0441\\u0442\\u043e\\u0438\\u0442 \\u043f\\u0440\\u043e\\u0432\\u0435\\u0440\\u0438\\u0442\\u044c \\u043f\\u0430\\u043f\\u043a\\u0443 AppData, \\u0432 \\u043a\\u043e\\u0442\\u043e\\u0440\\u043e\\u0439 \\u0442\\u0430\\u043a\\u0436\\u0435 \\u0445\\u0440\\u0430\\u043d\\u044f\\u0442\\u0441\\u044f \\u0444\\u0430\\u0439\\u043b\\u044b \\u043f\\u0440\\u0438\\u043b\\u043e\\u0436\\u0435\\u043d\\u0438\\u0439, \\u0432 \\u043e\\u0441\\u043d\\u043e\\u0432\\u043d\\u043e\\u043c \\u0441\\u0432\\u044f\\u0437\\u0430\\u043d\\u043d\\u044b\\u0435 \\u0441 \\u043d\\u0430\\u0441\\u0442\\u0440\\u043e\\u0439\\u043a\\u0430\\u043c\\u0438 \\u0438 \\u0430\\u043a\\u043a\\u0430\\u0443\\u043d\\u0442\\u043e\\u043c. \\u0412 \\u0437\\u0430\\u0432\\u0438\\u0441\\u0438\\u043c\\u043e\\u0441\\u0442\\u0438 \\u043e\\u0442 \\u043c\\u0435\\u0442\\u043e\\u0434\\u0430 \\u0443\\u0434\\u0430\\u043b\\u0435\\u043d\\u0438\\u044f \\u043f\\u0440\\u043e\\u0433\\u0440\\u0430\\u043c\\u043c\\u044b \\u043e\\u043d\\u0430 \\u043c\\u043e\\u0436\\u0435\\u0442 \\u043d\\u0435 \\u043e\\u0447\\u0438\\u0441\\u0442\\u0438\\u0442\\u044c\\u0441\\u044f, \\u0442\\u0430\\u043a \\u0447\\u0442\\u043e \\u0435\\u0441\\u0442\\u044c \\u0441\\u043c\\u044b\\u0441\\u043b \\u0441\\u0434\\u0435\\u043b\\u0430\\u0442\\u044c \\u044d\\u0442\\u043e \\u0432\\u0440\\u0443\\u0447\\u043d\\u0443\\u044e. \\u041f\\u043e \\u0443\\u043c\\u043e\\u043b\\u0447\\u0430\\u043d\\u0438\\u044e \\u043e\\u043d\\u0430 \\u0441\\u043a\\u0440\\u044b\\u0442\\u0430, \\u043d\\u043e \\u043d\\u0430\\u0439\\u0442\\u0438 \\u043d\\u0435\\u0441\\u043b\\u043e\\u0436\\u043d\\u043e: \\u043d\\u0430\\u0436\\u043c\\u0438\\u0442\\u0435 Win + R \\u0434\\u043b\\u044f \\u0437\\u0430\\u043f\\u0443\\u0441\\u043a\\u0430 \\u0441\\u0442\\u0440\\u043e\\u043a\\u0438 \\u00ab\\u0412\\u044b\\u043f\\u043e\\u043b\\u043d\\u0438\\u0442\\u044c\\u00bb, \\u0432\\u0432\\u0435\\u0434\\u0438\\u0442\\u0435 \\u0432 \\u043f\\u043e\\u043b\\u0435 %appdata% \\u0438 \\u043d\\u0430\\u0436\\u043c\\u0438\\u0442\\u0435 \\u00ab\\u0412\\u0432\\u043e\\u0434\\u00bb.\\u0421\\u043a\\u0440\\u0438\\u043d\\u0448\\u043e\\u0442: \\u041b\\u0430\\u0439\\u0444\\u0445\\u0430\\u043a\\u0435\\u0440\\u042d\\u0442\\u043e \\u043e\\u0442\\u043a\\u0440\\u043e\\u0435\\u0442 \\u043f\\u0430\\u043f\\u043a\\u0443 Roaming \\u0432\\u043d\\u0443\\u0442\\u0440\\u0438 AppData. \\u0417\\u0434\\u0435\\u0441\\u044c \\u043f\\u0440\\u043e\\u0433\\u0440\\u0430\\u043c\\u043c\\u044b \\u043e\\u0442\\u0441\\u043e\\u0440\\u0442\\u0438\\u0440\\u043e\\u0432\\u0430\\u043d\\u044b \\u043f\\u043e \\u0440\\u0430\\u0437\\u0440\\u0430\\u0431\\u043e\\u0442\\u0447\\u0438\\u043a\\u0430\\u043c: \\u043e\\u0431\\u044f\\u0437\\u0430\\u0442\\u0435\\u043b\\u044c\\u043d\\u043e \\u043f\\u0440\\u043e\\u0432\\u0435\\u0440\\u044c\\u0442\\u0435, \\u043d\\u0435\\u0442 \\u043b\\u0438 \\u0432\\u043d\\u0443\\u0442\\u0440\\u0438 \\u043f\\u0430\\u043f\\u043e\\u043a \\u043f\\u043e \\u043e\\u0442\\u0434\\u0435\\u043b\\u044c\\u043d\\u044b\\u043c \\u043f\\u0440\\u0438\\u043b\\u043e\\u0436\\u0435\\u043d\\u0438\\u044f\\u043c, \\u0438 \\u0443\\u0434\\u0430\\u043b\\u044f\\u0439\\u0442\\u0435 \\u0442\\u043e\\u043b\\u044c\\u043a\\u043e \\u0442\\u043e, \\u0447\\u0442\\u043e \\u0441\\u0432\\u044f\\u0437\\u0430\\u043d\\u043e \\u0441 \\u043d\\u0443\\u0436\\u043d\\u043e\\u0439 \\u043f\\u0440\\u043e\\u0433\\u0440\\u0430\\u043c\\u043c\\u043e\\u0439.\\u0421\\u043a\\u0440\\u0438\\u043d\\u0448\\u043e\\u0442: \\u041b\\u0430\\u0439\\u0444\\u0445\\u0430\\u043a\\u0435\\u0440\\u041f\\u0435\\u0440\\u0435\\u0439\\u0434\\u0438\\u0442\\u0435 \\u043d\\u0430 \\u0443\\u0440\\u043e\\u0432\\u0435\\u043d\\u044c \\u0432\\u044b\\u0448\\u0435 \\u0438 \\u043f\\u043e\\u0432\\u0442\\u043e\\u0440\\u0438\\u0442\\u0435 \\u0442\\u0435 \\u0436\\u0435 \\u0434\\u0435\\u0439\\u0441\\u0442\\u0432\\u0438\\u044f \\u0432 \\u0434\\u0432\\u0443\\u0445 \\u0434\\u0440\\u0443\\u0433\\u0438\\u0445 \\u043f\\u0430\\u043f\\u043a\\u0430\\u0445 AppData: Local \\u0438 LocalLow.\\u0421\\u043a\\u0440\\u0438\\u043d\\u0448\\u043e\\u0442: \\u041b\\u0430\\u0439\\u0444\\u0445\\u0430\\u043a\\u0435\\u0440\\u041f\\u043e\\u0441\\u043b\\u0435\\u0434\\u043d\\u0438\\u0439 \\u0448\\u0430\\u0433 \\u2014 \\u043f\\u043e\\u0438\\u0441\\u043a \\u0432\\u0440\\u0435\\u043c\\u0435\\u043d\\u043d\\u044b\\u0445 \\u0444\\u0430\\u0439\\u043b\\u043e\\u0432. \\u0421 \\u044d\\u0442\\u0438\\u043c \\u0441\\u043f\\u0440\\u0430\\u0432\\u0438\\u0442\\u0441\\u044f \\u0440\\u043e\\u0434\\u043d\\u0430\\u044f \\u0443\\u0442\\u0438\\u043b\\u0438\\u0442\\u0430 Windows: \\u043d\\u0430\\u0436\\u043c\\u0438\\u0442\\u0435 \\u00ab\\u041f\\u0443\\u0441\\u043a\\u00bb \\u0438 \\u0432\\u0431\\u0435\\u0439\\u0442\\u0435 \\u0432 \\u043f\\u043e\\u0438\\u0441\\u043a \\u00ab\\u041e\\u0447\\u0438\\u0441\\u0442\\u043a\\u0430 \\u0434\\u0438\\u0441\\u043a\\u0430\\u00bb. \\u041a\\u043b\\u0438\\u043a\\u043d\\u0438\\u0442\\u0435 \\u043f\\u043e \\u043f\\u043b\\u0430\\u0448\\u043a\\u0435, \\u0447\\u0442\\u043e\\u0431\\u044b \\u0437\\u0430\\u043f\\u0443\\u0441\\u0442\\u0438\\u0442\\u044c \\u043f\\u0440\\u0438\\u043b\\u043e\\u0436\\u0435\\u043d\\u0438\\u0435.\\u0421\\u043a\\u0440\\u0438\\u043d\\u0448\\u043e\\u0442: \\u041b\\u0430\\u0439\\u0444\\u0445\\u0430\\u043a\\u0435\\u0440\\u0414\\u043b\\u044f \\u043d\\u0430\\u0447\\u0430\\u043b\\u0430 \\u0440\\u0430\\u0431\\u043e\\u0442\\u044b \\u0432\\u044b\\u0431\\u0435\\u0440\\u0438\\u0442\\u0435 \\u043d\\u0443\\u0436\\u043d\\u044b\\u0439 \\u0434\\u0438\\u0441\\u043a, \\u043f\\u043e\\u0441\\u043b\\u0435 \\u0447\\u0435\\u0433\\u043e \\u043e\\u0442\\u043a\\u0440\\u043e\\u0435\\u0442\\u0441\\u044f \\u0441\\u043f\\u0438\\u0441\\u043e\\u043a \\u0444\\u0430\\u0439\\u043b\\u043e\\u0432 \\u0434\\u043b\\u044f \\u043f\\u043e\\u0438\\u0441\\u043a\\u0430. \\u041f\\u0440\\u043e\\u0436\\u043c\\u0438\\u0442\\u0435 \\u0433\\u0430\\u043b\\u043e\\u0447\\u043a\\u0443 \\u0443 \\u043f\\u0443\\u043d\\u043a\\u0442\\u0430 \\u00ab\\u0412\\u0440\\u0435\\u043c\\u0435\\u043d\\u043d\\u044b\\u0435 \\u0444\\u0430\\u0439\\u043b\\u044b\\u00bb \\u0438 \\u0437\\u0430\\u043f\\u0443\\u0441\\u0442\\u0438\\u0442\\u0435 \\u043e\\u0447\\u0438\\u0441\\u0442\\u043a\\u0443.\\u00a0\\u0421\\u0438\\u0441\\u0442\\u0435\\u043c\\u043d\\u044b\\u0435 \\u0444\\u0430\\u0439\\u043b\\u044b \\u043b\\u0443\\u0447\\u0448\\u0435 \\u043d\\u0435 \\u0442\\u0440\\u043e\\u0433\\u0430\\u0442\\u044c, \\u043d\\u043e \\u043e\\u043d\\u0438 \\u0438 \\u043d\\u0435 \\u043f\\u0440\\u0435\\u0434\\u043b\\u0430\\u0433\\u0430\\u044e\\u0442\\u0441\\u044f \\u0431\\u0435\\u0437 \\u0434\\u043e\\u043f\\u043e\\u043b\\u043d\\u0438\\u0442\\u0435\\u043b\\u044c\\u043d\\u044b\\u0445 \\u043a\\u043b\\u0438\\u043a\\u043e\\u0432. \\u0421\\u043a\\u0440\\u0438\\u043d\\u0448\\u043e\\u0442: \\u041b\\u0430\\u0439\\u0444\\u0445\\u0430\\u043a\\u0435\\u0440\\u0415\\u0441\\u043b\\u0438 \\u0432\\u0438\\u0434\\u0438\\u0442\\u0435, \\u0447\\u0442\\u043e \\u0432 \\u0434\\u0440\\u0443\\u0433\\u0438\\u0445 \\u043a\\u0430\\u0442\\u0435\\u0433\\u043e\\u0440\\u0438\\u044f\\u0445 \\u043f\\u043e \\u0441\\u043f\\u0438\\u0441\\u043a\\u0443 \\u0441\\u043a\\u043e\\u043f\\u0438\\u043b\\u043e\\u0441\\u044c \\u043c\\u043d\\u043e\\u0433\\u043e \\u0445\\u043b\\u0430\\u043c\\u0430, \\u0432\\u044b\\u0434\\u0435\\u043b\\u0438\\u0442\\u0435 \\u0438 \\u0438\\u0445 \\u0442\\u043e\\u0436\\u0435: \\u0432 \\u044d\\u0442\\u043e\\u043c \\u0440\\u0430\\u0437\\u0434\\u0435\\u043b\\u0435 Windows \\u0441\\u043e\\u0431\\u0438\\u0440\\u0430\\u0435\\u0442 \\u0442\\u043e\\u043b\\u044c\\u043a\\u043e \\u0442\\u0435 \\u0444\\u0430\\u0439\\u043b\\u044b, \\u043a\\u043e\\u0442\\u043e\\u0440\\u044b\\u0435 \\u043a\\u043e\\u043c\\u043f\\u044c\\u044e\\u0442\\u0435\\u0440\\u0443 \\u0431\\u043e\\u043b\\u044c\\u0448\\u0435 \\u043d\\u0435 \\u0442\\u0440\\u0435\\u0431\\u0443\\u044e\\u0442\\u0441\\u044f. \\u0418\\u0445 \\u043c\\u043e\\u0436\\u043d\\u043e \\u0431\\u0435\\u0441\\u043f\\u0440\\u0435\\u043f\\u044f\\u0442\\u0441\\u0442\\u0432\\u0435\\u043d\\u043d\\u043e \\u0443\\u0434\\u0430\\u043b\\u044f\\u0442\\u044c.\\u041a\\u0430\\u043a \\u043f\\u043e\\u043b\\u043d\\u043e\\u0441\\u0442\\u044c\\u044e \\u0443\\u0434\\u0430\\u043b\\u0438\\u0442\\u044c \\u043f\\u0440\\u043e\\u0433\\u0440\\u0430\\u043c\\u043c\\u0443 \\u043d\\u0430\\u00a0macOS\\u0421\\u0442\\u0440\\u043e\\u0433\\u043e \\u0433\\u043e\\u0432\\u043e\\u0440\\u044f, \\u043d\\u0438\\u043a\\u0442\\u043e \\u043d\\u0435 \\u043c\\u0435\\u0448\\u0430\\u0435\\u0442 \\u043f\\u0435\\u0440\\u0435\\u0442\\u044f\\u043d\\u0443\\u0442\\u044c \\u0438\\u043a\\u043e\\u043d\\u043a\\u0443 \\u0438\\u0437 \\u043f\\u0430\\u043f\\u043a\\u0438 \\u00ab\\u041f\\u0440\\u043e\\u0433\\u0440\\u0430\\u043c\\u043c\\u044b\\u00bb \\u0432 \\u043a\\u043e\\u0440\\u0437\\u0438\\u043d\\u0443 \\u0447\\u0435\\u0440\\u0435\\u0437 Finder. \\u0412 \\u043e\\u0442\\u043b\\u0438\\u0447\\u0438\\u0435 \\u043e\\u0442 Windows, \\u0437\\u0434\\u0435\\u0441\\u044c \\u044d\\u0442\\u043e \\u0440\\u0435\\u0430\\u043b\\u044c\\u043d\\u043e \\u0443\\u0434\\u0430\\u043b\\u044f\\u0435\\u0442 \\u043f\\u0440\\u0438\\u043b\\u043e\\u0436\\u0435\\u043d\\u0438\\u0435. \\u0422\\u0430\\u043a\\u0436\\u0435 \\u043c\\u043e\\u0436\\u043d\\u043e \\u043f\\u0435\\u0440\\u0435\\u0439\\u0442\\u0438 \\u043a \\u043f\\u0430\\u043f\\u043a\\u0435 /Users/[\\u0438\\u043c\\u044f \\u043f\\u043e\\u043b\\u044c\\u0437\\u043e\\u0432\\u0430\\u0442\\u0435\\u043b\\u044f]/Applications/ \\u0432 \\u0442\\u043e\\u043c \\u0436\\u0435 Finder \\u0438 \\u043f\\u0440\\u043e\\u0432\\u0435\\u0440\\u0438\\u0442\\u044c, \\u043d\\u0435\\u0442 \\u043b\\u0438 \\u043f\\u0440\\u0438\\u043b\\u043e\\u0436\\u0435\\u043d\\u0438\\u044f \\u0442\\u0430\\u043c.\\u00a0\\u0421\\u043a\\u0440\\u0438\\u043d\\u0448\\u043e\\u0442: \\u041b\\u0430\\u0439\\u0444\\u0445\\u0430\\u043a\\u0435\\u0440\\u041e\\u0431\\u0430 \\u0432\\u0430\\u0440\\u0438\\u0430\\u043d\\u0442\\u0430 \\u043f\\u043e\\u043c\\u043e\\u0433\\u0443\\u0442 \\u043f\\u0440\\u0438 \\u0443\\u0434\\u0430\\u043b\\u0435\\u043d\\u0438\\u0438 \\u043f\\u0440\\u043e\\u0441\\u0442\\u0435\\u043d\\u044c\\u043a\\u0438\\u0445 \\u043f\\u0440\\u0438\\u043b\\u043e\\u0436\\u0435\\u043d\\u0438\\u0439, \\u043a\\u043e\\u0442\\u043e\\u0440\\u044b\\u043c \\u043d\\u0435 \\u043d\\u0443\\u0436\\u043d\\u043e \\u0441\\u043e\\u0437\\u0434\\u0430\\u0432\\u0430\\u0442\\u044c \\u043c\\u043d\\u043e\\u0433\\u043e \\u0434\\u043e\\u043f\\u043e\\u043b\\u043d\\u0438\\u0442\\u0435\\u043b\\u044c\\u043d\\u044b\\u0445 \\u0444\\u0430\\u0439\\u043b\\u043e\\u0432. \\u0410 \\u0432\\u043e\\u0442 \\u043f\\u0440\\u043e\\u0433\\u0440\\u0430\\u043c\\u043c\\u044b \\u043f\\u043e\\u0441\\u043b\\u043e\\u0436\\u043d\\u0435\\u0435 \\u043f\\u043e\\u0447\\u0442\\u0438 \\u0433\\u0430\\u0440\\u0430\\u043d\\u0442\\u0438\\u0440\\u043e\\u0432\\u0430\\u043d\\u043d\\u043e \\u043e\\u0441\\u0442\\u0430\\u0432\\u044f\\u0442 \\u0437\\u0430 \\u0441\\u043e\\u0431\\u043e\\u0439 \\u0445\\u0432\\u043e\\u0441\\u0442\\u044b, \\u043a\\u043e\\u0442\\u043e\\u0440\\u044b\\u0435 \\u043f\\u0440\\u0438\\u0434\\u0451\\u0442\\u0441\\u044f \\u0434\\u043e\\u043b\\u0433\\u043e \\u0434\\u043e\\u0447\\u0438\\u0449\\u0430\\u0442\\u044c. \\u0412\\u0430\\u0440\\u0438\\u0430\\u043d\\u0442\\u044b \\u0443 \\u043f\\u043e\\u043b\\u044c\\u0437\\u043e\\u0432\\u0430\\u0442\\u0435\\u043b\\u0435\\u0439 Mac \\u0435\\u0441\\u0442\\u044c, \\u043d\\u043e \\u0438\\u0445 \\u043c\\u0435\\u043d\\u044c\\u0448\\u0435, \\u0447\\u0435\\u043c \\u043d\\u0430 Windows.\\u0421\\u043f\\u043e\\u0441\\u043e\\u0431 1: \\u043f\\u0440\\u0438\\u043b\\u043e\\u0436\\u0435\\u043d\\u0438\\u044f-\\u0434\\u0435\\u0438\\u043d\\u0441\\u0442\\u0430\\u043b\\u043b\\u044f\\u0442\\u043e\\u0440\\u044b\\u041f\\u043e\\u0434 macOS \\u0434\\u043e\\u0441\\u0442\\u0443\\u043f\\u043d\\u043e \\u0434\\u043e\\u0441\\u0442\\u0430\\u0442\\u043e\\u0447\\u043d\\u043e \\u043a\\u043b\\u0438\\u043d\\u0435\\u0440\\u043e\\u0432, \\u043d\\u043e \\u043f\\u0440\\u043e\\u0441\\u0442\\u043e\\u0439 \\u0438 \\u043f\\u0440\\u043e\\u0432\\u0435\\u0440\\u0435\\u043d\\u043d\\u044b\\u0439 \\u0432\\u0430\\u0440\\u0438\\u0430\\u043d\\u0442 \\u2014 \\u043f\\u043e\\u043b\\u043d\\u043e\\u0441\\u0442\\u044c\\u044e \\u0431\\u0435\\u0441\\u043f\\u043b\\u0430\\u0442\\u043d\\u044b\\u0439 AppCleaner. \\u042d\\u0442\\u043e \\u0443\\u0434\\u043e\\u0431\\u043d\\u0430\\u044f \\u0438 \\u043b\\u0451\\u0433\\u043a\\u0430\\u044f \\u043f\\u0440\\u043e\\u0433\\u0440\\u0430\\u043c\\u043c\\u0430, \\u043a\\u043e\\u0442\\u043e\\u0440\\u0443\\u044e \\u043c\\u043e\\u0436\\u043d\\u043e \\u0443\\u0441\\u0442\\u0430\\u043d\\u043e\\u0432\\u0438\\u0442\\u044c \\u0434\\u0430\\u0436\\u0435 \\u043d\\u0430 \\u0441\\u0442\\u0430\\u0440\\u044b\\u0435 \\u0432\\u0435\\u0440\\u0441\\u0438\\u0438 macOS. \\u0414\\u043b\\u044f \\u0440\\u0430\\u0431\\u043e\\u0442\\u044b \\u0434\\u043e\\u0441\\u0442\\u0430\\u0442\\u043e\\u0447\\u043d\\u043e \\u043f\\u0435\\u0440\\u0435\\u0442\\u0430\\u0449\\u0438\\u0442\\u044c \\u043f\\u0440\\u043e\\u0433\\u0440\\u0430\\u043c\\u043c\\u0443, \\u043a\\u043e\\u0442\\u043e\\u0440\\u0443\\u044e \\u0445\\u043e\\u0442\\u0438\\u0442\\u0435 \\u0443\\u0434\\u0430\\u043b\\u0438\\u0442\\u044c, \\u0432 \\u043e\\u043a\\u043d\\u043e AppCleaner.\\u00a0\\u0422\\u0430\\u043a\\u0436\\u0435 \\u0441\\u0443\\u0449\\u0435\\u0441\\u0442\\u0432\\u0443\\u0435\\u0442 \\u0431\\u043e\\u043b\\u0435\\u0435 \\u0441\\u043e\\u0432\\u0440\\u0435\\u043c\\u0435\\u043d\\u043d\\u044b\\u0439 \\u0430\\u043d\\u0430\\u043b\\u043e\\u0433 \\u0438 \\u0438\\u0434\\u0435\\u0439\\u043d\\u044b\\u0439 \\u043d\\u0430\\u0441\\u043b\\u0435\\u0434\\u043d\\u0438\\u043a \\u2014 Pearlcleaner. \\u041f\\u043e \\u0441\\u0443\\u0442\\u0438 \\u0442\\u043e \\u0436\\u0435 \\u0441\\u0430\\u043c\\u043e\\u0435, \\u043d\\u043e \\u0441 \\u0438\\u043d\\u0442\\u0435\\u0440\\u0444\\u0435\\u0439\\u0441\\u043e\\u043c, \\u0432 \\u043a\\u043e\\u0442\\u043e\\u0440\\u043e\\u043c \\u043c\\u043e\\u0436\\u043d\\u043e \\u0441\\u043c\\u043e\\u0442\\u0440\\u0435\\u0442\\u044c \\u0443\\u0441\\u0442\\u0430\\u043d\\u043e\\u0432\\u043b\\u0435\\u043d\\u043d\\u044b\\u0435 \\u043f\\u0440\\u043e\\u0433\\u0440\\u0430\\u043c\\u043c\\u044b \\u0438 \\u0437\\u0430\\u043d\\u0438\\u043c\\u0430\\u0435\\u043c\\u043e\\u0435 \\u0438\\u043c\\u0438\\u00a0\\u043c\\u0435\\u0441\\u0442\\u043e.\\u0421\\u043a\\u0440\\u0438\\u043d\\u0448\\u043e\\u0442: Pearlcleaner\\u041e\\u0431\\u0435 \\u043f\\u0440\\u043e\\u0433\\u0440\\u0430\\u043c\\u043c\\u044b \\u0441\\u0430\\u043c\\u0438 \\u0448\\u0435\\u0440\\u0441\\u0442\\u044f\\u0442 \\u0434\\u0438\\u0441\\u043a \\u0432 \\u043f\\u043e\\u0438\\u0441\\u043a\\u0430\\u0445 \\u0441\\u0432\\u044f\\u0437\\u0430\\u043d\\u043d\\u044b\\u0445 \\u0444\\u0430\\u0439\\u043b\\u043e\\u0432 \\u0438 \\u0443\\u0434\\u0430\\u043b\\u044f\\u044e\\u0442 \\u0438\\u0445 \\u0432\\u043c\\u0435\\u0441\\u0442\\u0435 \\u0441 \\u0441\\u0430\\u043c\\u043e\\u0439 \\u043f\\u0440\\u043e\\u0433\\u0440\\u0430\\u043c\\u043c\\u043e\\u0439. \\u041f\\u043b\\u044e\\u0441 \\u043e\\u043d\\u0438 \\u0431\\u0435\\u0441\\u043f\\u043b\\u0430\\u0442\\u043d\\u044b\\u0435, \\u043f\\u043e\\u044d\\u0442\\u043e\\u043c\\u0443 \\u043c\\u043e\\u0436\\u043d\\u043e \\u0441\\u043a\\u0430\\u0447\\u0438\\u0432\\u0430\\u0442\\u044c \\u0441 \\u043e\\u0444\\u0438\\u0446\\u0438\\u0430\\u043b\\u044c\\u043d\\u044b\\u0445 \\u0441\\u0430\\u0439\\u0442\\u043e\\u0432 \\u0438 \\u043d\\u0435 \\u0431\\u0435\\u0441\\u043f\\u043e\\u043a\\u043e\\u0438\\u0442\\u044c\\u0441\\u044f \\u043d\\u0430\\u0441\\u0447\\u0451\\u0442 \\u0432\\u0438\\u0440\\u0443\\u0441\\u043e\\u0432.\\u0421\\u043f\\u043e\\u0441\\u043e\\u0431 2: \\u0440\\u0443\\u0447\\u043d\\u0430\\u044f \\u0447\\u0438\\u0441\\u0442\\u043a\\u0430\\u0414\\u043e\\u0432\\u043e\\u043b\\u044c\\u043d\\u043e \\u0441\\u043b\\u043e\\u0436\\u043d\\u044b\\u0439 \\u0438 \\u043d\\u0435\\u0431\\u043b\\u0430\\u0433\\u043e\\u0434\\u0430\\u0440\\u043d\\u044b\\u0439 \\u043c\\u0435\\u0442\\u043e\\u0434, \\u043f\\u043e\\u0442\\u043e\\u043c\\u0443 \\u0447\\u0442\\u043e \\u0435\\u0441\\u043b\\u0438 \\u0440\\u0430\\u0437\\u0440\\u0430\\u0431\\u043e\\u0442\\u0447\\u0438\\u043a\\u0438 \\u0440\\u0430\\u0437\\u0440\\u0435\\u0448\\u0438\\u043b\\u0438 \\u043f\\u0440\\u0438\\u043b\\u043e\\u0436\\u0435\\u043d\\u0438\\u044e \\u0437\\u0430\\u0431\\u0440\\u043e\\u0441\\u0430\\u0442\\u044c Mac \\u0441\\u0432\\u043e\\u0438\\u043c\\u0438 \\u0444\\u0430\\u0439\\u043b\\u0430\\u043c\\u0438, \\u0442\\u043e \\u044d\\u0442\\u043e \\u043c\\u043e\\u0436\\u0435\\u0442 \\u0440\\u0430\\u0441\\u043f\\u0440\\u043e\\u0441\\u0442\\u0440\\u0430\\u043d\\u0438\\u0442\\u044c\\u0441\\u044f \\u043d\\u0430 \\u0434\\u0435\\u0441\\u044f\\u0442\\u043a\\u0438 \\u043f\\u0430\\u043f\\u043e\\u043a \\u0432\\u043d\\u0443\\u0442\\u0440\\u0438 \\u043f\\u0430\\u043f\\u043e\\u043a \\u0432\\u043d\\u0443\\u0442\\u0440\\u0438 \\u043f\\u0430\\u043f\\u043e\\u043a. \\u0414\\u0435\\u0438\\u043d\\u0441\\u0442\\u0430\\u043b\\u043b\\u044f\\u0442\\u043e\\u0440\\u044b \\u0445\\u043e\\u0440\\u043e\\u0448\\u043e \\u0441\\u043f\\u0440\\u0430\\u0432\\u043b\\u044f\\u044e\\u0442\\u0441\\u044f \\u0435\\u0441\\u043b\\u0438 \\u043d\\u0435 \\u0441\\u043e \\u0432\\u0441\\u0435\\u043c \\u043c\\u0443\\u0441\\u043e\\u0440\\u043e\\u043c, \\u0442\\u043e \\u043a\\u0430\\u043a \\u043c\\u0438\\u043d\\u0438\\u043c\\u0443\\u043c \\u0441 \\u0441\\u0430\\u043c\\u044b\\u043c \\u043a\\u0440\\u0443\\u043f\\u043d\\u044b\\u043c. \\u041d\\u043e \\u0435\\u0441\\u043b\\u0438 \\u0432\\u0430\\u043c \\u043a\\u0440\\u0438\\u0442\\u0438\\u0447\\u043d\\u043e \\u0447\\u0442\\u043e-\\u0442\\u043e \\u0434\\u043e\\u0447\\u0438\\u0441\\u0442\\u0438\\u0442\\u044c \\u0438\\u043b\\u0438 \\u0432\\u044b \\u043f\\u043e\\u043b\\u044c\\u0437\\u0443\\u0435\\u0442\\u0435\\u0441\\u044c \\u043a\\u043e\\u043c\\u043f\\u044c\\u044e\\u0442\\u0435\\u0440\\u043e\\u043c \\u0434\\u0430\\u0432\\u043d\\u043e \\u0438 \\u0443\\u0432\\u0435\\u0440\\u0435\\u043d\\u044b, \\u0447\\u0442\\u043e \\u043d\\u0430 \\u043d\\u0451\\u043c \\u043f\\u043e\\u043b\\u043d\\u043e \\u043e\\u0441\\u0442\\u0430\\u0442\\u043a\\u043e\\u0432 \\u043e\\u0442 \\u0440\\u0430\\u0437\\u043d\\u044b\\u0445 \\u043f\\u0440\\u043e\\u0433\\u0440\\u0430\\u043c\\u043c, \\u0432 Finder \\u0432\\u044b\\u043f\\u043e\\u043b\\u043d\\u0438\\u0442\\u0435 \\u043f\\u0435\\u0440\\u0435\\u0445\\u043e\\u0434 \\u043a \\u043f\\u0430\\u043f\\u043a\\u0435 /Users/[\\u0438\\u043c\\u044f \\u043f\\u043e\\u043b\\u044c\\u0437\\u043e\\u0432\\u0430\\u0442\\u0435\\u043b\\u044f]/Library/. \\u0412\\u043d\\u0443\\u0442\\u0440\\u0438 \\u044d\\u0442\\u043e\\u0433\\u043e \\u0440\\u0430\\u0437\\u0434\\u0435\\u043b\\u0430 \\u2014 \\u043e\\u043a\\u043e\\u043b\\u043e 50 \\u043f\\u0430\\u043f\\u043e\\u043a-\\u043a\\u0430\\u0442\\u0435\\u0433\\u043e\\u0440\\u0438\\u0439, \\u0432\\u043d\\u0443\\u0442\\u0440\\u0438 \\u043a\\u043e\\u0442\\u043e\\u0440\\u044b\\u0445 \\u0440\\u0430\\u0441\\u0441\\u043e\\u0440\\u0442\\u0438\\u0440\\u043e\\u0432\\u0430\\u043d\\u044b \\u0444\\u0430\\u0439\\u043b\\u044b \\u043e\\u0442 \\u0440\\u0430\\u0437\\u043d\\u044b\\u0445 \\u043f\\u0440\\u043e\\u0433\\u0440\\u0430\\u043c\\u043c. \\u0412\\u0430\\u043c \\u043f\\u0440\\u0438\\u0434\\u0451\\u0442\\u0441\\u044f \\u043e\\u0442\\u043a\\u0440\\u044b\\u0432\\u0430\\u0442\\u044c \\u0438\\u0445 \\u0438 \\u0438\\u0441\\u043a\\u0430\\u0442\\u044c \\u0432\\u043d\\u0443\\u0442\\u0440\\u0438 \\u0438\\u043c\\u044f \\u0443\\u0434\\u0430\\u043b\\u0451\\u043d\\u043d\\u043e\\u0439 \\u043f\\u0440\\u043e\\u0433\\u0440\\u0430\\u043c\\u043c\\u044b \\u0438 \\u0435\\u0451 \\u0440\\u0430\\u0437\\u0440\\u0430\\u0431\\u043e\\u0442\\u0447\\u0438\\u043a\\u0430. \\u0412\\u0441\\u0451 \\u0442\\u0440\\u043e\\u0433\\u0430\\u0442\\u044c \\u043d\\u0435 \\u043d\\u0443\\u0436\\u043d\\u043e, \\u043f\\u043e\\u0442\\u043e\\u043c\\u0443 \\u0447\\u0442\\u043e \\u0447\\u0430\\u0441\\u0442\\u044c \\u0441\\u043e\\u0434\\u0435\\u0440\\u0436\\u0438\\u0442 \\u0441\\u0438\\u0441\\u0442\\u0435\\u043c\\u043d\\u044b\\u0435 \\u0434\\u0430\\u043d\\u043d\\u044b\\u0435 \\u0438 \\u043d\\u0430\\u0441\\u0442\\u0440\\u043e\\u0439\\u043a\\u0438, \\u0430 \\u0432 \\u043d\\u0435\\u043a\\u043e\\u0442\\u043e\\u0440\\u044b\\u0445 \\u043f\\u0430\\u043f\\u043a\\u0430\\u0445 \\u0445\\u0440\\u0430\\u043d\\u044f\\u0442\\u0441\\u044f \\u0444\\u0430\\u0439\\u043b\\u044b \\u043d\\u0430 \\u043d\\u0435\\u0441\\u043a\\u043e\\u043b\\u044c\\u043a\\u043e \\u0431\\u0430\\u0439\\u0442\\u043e\\u0432: \\u0442\\u043e\\u043b\\u044c\\u043a\\u043e \\u0440\\u0443\\u043a\\u0438 \\u043f\\u0430\\u0447\\u043a\\u0430\\u0442\\u044c. \\u0417\\u0430\\u0433\\u043b\\u044f\\u043d\\u0443\\u0442\\u044c \\u0441\\u0442\\u043e\\u0438\\u0442 \\u043b\\u0438\\u0448\\u044c \\u0432 \\u0434\\u0432\\u0430 \\u0440\\u0430\\u0437\\u0434\\u0435\\u043b\\u0430:Application Support;\\nCashes.\\n\\u041a\\u0435\\u0448 \\u0431\\u0440\\u0430\\u0443\\u0437\\u0435\\u0440\\u0430 \\u0437\\u0430\\u043d\\u0438\\u043c\\u0430\\u0435\\u0442 \\u0431\\u043e\\u043b\\u044c\\u0448\\u0435 \\u043f\\u043e\\u043b\\u0443\\u0442\\u043e\\u0440\\u0430 \\u0433\\u0438\\u0433\\u0430\\u0431\\u0430\\u0439\\u0442\\u043e\\u0432. \\u0421\\u043e\\u0432\\u0435\\u0440\\u0448\\u0435\\u043d\\u043d\\u043e \\u0438\\u0437\\u043b\\u0438\\u0448\\u043d\\u0435, \\u0435\\u0441\\u043b\\u0438 \\u0441\\u0430\\u043c \\u0431\\u0440\\u0430\\u0443\\u0437\\u0435\\u0440 \\u0443\\u0436\\u0435 \\u0443\\u0434\\u0430\\u043b\\u0451\\u043d. \\u0421\\u043a\\u0440\\u0438\\u043d\\u0448\\u043e\\u0442: \\u041b\\u0430\\u0439\\u0444\\u0445\\u0430\\u043a\\u0435\\u0440\\u0418\\u043c\\u0435\\u043d\\u043d\\u043e \\u0432 \\u043d\\u0438\\u0445 \\u043c\\u043e\\u0433\\u0443\\u0442 \\u043e\\u0441\\u0442\\u0430\\u0442\\u044c\\u0441\\u044f \\u043c\\u0430\\u0441\\u0441\\u0438\\u0432\\u043d\\u044b\\u0435 \\u0444\\u0430\\u0439\\u043b\\u044b \\u043f\\u043e\\u0441\\u043b\\u0435 \\u043d\\u0435\\u043f\\u043e\\u043b\\u043d\\u043e\\u0433\\u043e \\u0443\\u0434\\u0430\\u043b\\u0435\\u043d\\u0438\\u044f \\u043f\\u0440\\u043e\\u0433\\u0440\\u0430\\u043c\\u043c\\u044b. \\u0422\\u0430\\u043a\\u0436\\u0435 \\u0441\\u0442\\u043e\\u0438\\u0442 \\u043f\\u0440\\u043e\\u0432\\u0435\\u0440\\u0438\\u0442\\u044c, \\u043d\\u0435\\u0442 \\u043b\\u0438 \\u0432 Library \\u043f\\u0430\\u043f\\u043e\\u043a \\u0441 \\u043d\\u0430\\u0437\\u0432\\u0430\\u043d\\u0438\\u044f\\u043c\\u0438 \\u0434\\u0440\\u0443\\u0433\\u0438\\u0445 \\u0440\\u0430\\u0437\\u0440\\u0430\\u0431\\u043e\\u0442\\u0447\\u0438\\u043a\\u043e\\u0432: \\u043d\\u0430\\u043f\\u0440\\u0438\\u043c\\u0435\\u0440, Google. \\u0412\\u0440\\u044f\\u0434 \\u043b\\u0438 \\u0442\\u0430\\u043a\\u0430\\u044f \\u043f\\u0430\\u043f\\u043a\\u0430 \\u0431\\u0443\\u0434\\u0435\\u0442 \\u0432\\u0435\\u0441\\u0438\\u0442\\u044c \\u043c\\u043d\\u043e\\u0433\\u043e, \\u043d\\u043e \\u043f\\u0440\\u043e\\u0432\\u0435\\u0440\\u0438\\u0442\\u044c \\u0441\\u0442\\u043e\\u0438\\u0442.\\u041a\\u0430\\u043a \\u0438 \\u0432 \\u0441\\u043b\\u0443\\u0447\\u0430\\u0435 \\u0441 Windows, \\u043d\\u0443\\u0436\\u043d\\u043e \\u0431\\u044b\\u0442\\u044c \\u0430\\u043a\\u043a\\u0443\\u0440\\u0430\\u0442\\u043d\\u0435\\u0435, \\u0447\\u0442\\u043e\\u0431\\u044b \\u043d\\u0435 \\u0443\\u0434\\u0430\\u043b\\u0438\\u0442\\u044c \\u043b\\u0438\\u0448\\u043d\\u0435\\u0433\\u043e, \\u043e\\u0441\\u043e\\u0431\\u0435\\u043d\\u043d\\u043e \\u0435\\u0441\\u043b\\u0438 \\u0443 \\u0432\\u0430\\u0441 \\u043e\\u0441\\u0442\\u0430\\u043b\\u0438\\u0441\\u044c \\u0434\\u0440\\u0443\\u0433\\u0438\\u0435 \\u043f\\u0440\\u043e\\u0433\\u0440\\u0430\\u043c\\u043c\\u044b \\u043e\\u0442 \\u0442\\u0435\\u0445 \\u0436\\u0435 \\u0440\\u0430\\u0437\\u0440\\u0430\\u0431\\u043e\\u0442\\u0447\\u0438\\u043a\\u043e\\u0432.\\u041a\\u043e\\u043d\\u0435\\u0447\\u043d\\u043e, \\u0444\\u0430\\u0439\\u043b\\u044b \\u043c\\u043e\\u0433\\u0443\\u0442 \\u043e\\u0441\\u0442\\u0430\\u0442\\u044c\\u0441\\u044f \\u043d\\u0435 \\u0442\\u043e\\u043b\\u044c\\u043a\\u043e \\u0432 Library. \\u0414\\u043b\\u044f \\u043a\\u043e\\u043d\\u043a\\u0440\\u0435\\u0442\\u043d\\u044b\\u0445 \\u043f\\u0440\\u043e\\u0433\\u0440\\u0430\\u043c\\u043c, \\u0438\\u0437\\u0432\\u0435\\u0441\\u0442\\u043d\\u044b\\u0445 \\u0441\\u0432\\u043e\\u0435\\u0439 \\u0438\\u043d\\u0432\\u0430\\u0437\\u0438\\u0432\\u043d\\u043e\\u0441\\u0442\\u044c\\u044e \\u0438 \\u043b\\u044e\\u0431\\u044f\\u0449\\u0438\\u0445 \\u043e\\u0441\\u0442\\u0430\\u0432\\u043b\\u044f\\u0442\\u044c \\u043a\\u0443\\u0447\\u0443 \\u0441\\u043b\\u0435\\u0434\\u043e\\u0432, \\u0432 \\u0438\\u043d\\u0442\\u0435\\u0440\\u043d\\u0435\\u0442\\u0435 \\u0435\\u0441\\u0442\\u044c \\u043f\\u043e\\u0434\\u0440\\u043e\\u0431\\u043d\\u044b\\u0435 \\u0438\\u043d\\u0441\\u0442\\u0440\\u0443\\u043a\\u0446\\u0438\\u0438 \\u0441 \\u0443\\u043a\\u0430\\u0437\\u0430\\u043d\\u0438\\u0435\\u043c \\u043a\\u043e\\u043d\\u043a\\u0440\\u0435\\u0442\\u043d\\u044b\\u0445 \\u0434\\u0438\\u0440\\u0435\\u043a\\u0442\\u043e\\u0440\\u0438\\u0439: \\u043f\\u0440\\u043e\\u0441\\u0442\\u043e \\u0437\\u0430\\u0433\\u0443\\u0433\\u043b\\u0438\\u0442\\u0435 How to fully delete [\\u043d\\u0430\\u0437\\u0432\\u0430\\u043d\\u0438\\u0435 \\u043f\\u0440\\u0438\\u043b\\u043e\\u0436\\u0435\\u043d\\u0438\\u044f] from macOS \\u0438\\u043b\\u0438 How to delete all [\\u043d\\u0430\\u0437\\u0432\\u0430\\u043d\\u0438\\u0435 \\u043f\\u0440\\u0438\\u043b\\u043e\\u0436\\u0435\\u043d\\u0438\\u044f] files on Mac. \\u0415\\u0441\\u043b\\u0438 \\u041f\\u041e \\u0431\\u043e\\u043b\\u0435\\u0435-\\u043c\\u0435\\u043d\\u0435\\u0435 \\u043f\\u043e\\u043f\\u0443\\u043b\\u044f\\u0440\\u043d\\u043e\\u0435, \\u0443\\u043c\\u0435\\u043b\\u044c\\u0446\\u044b \\u0441 Reddit \\u0443\\u0436\\u0435 \\u043d\\u0430\\u0432\\u0435\\u0440\\u043d\\u044f\\u043a\\u0430 \\u0432\\u043e \\u0432\\u0441\\u0451\\u043c \\u0440\\u0430\\u0437\\u043e\\u0431\\u0440\\u0430\\u043b\\u0438\\u0441\\u044c \\u0438 \\u0441\\u043e\\u0431\\u0440\\u0430\\u043b\\u0438 \\u043a\\u043e\\u043d\\u043a\\u0440\\u0435\\u0442\\u043d\\u044b\\u0439 \\u0441\\u043f\\u0438\\u0441\\u043e\\u043a.\\u0427\\u0442\\u043e \\u0435\\u0449\\u0451 \\u043f\\u043e\\u0447\\u0438\\u0441\\u0442\\u0438\\u0442\\u044c\\ud83e\\uddf9\\u2728\\u041a\\u0430\\u043a \\u043f\\u043e\\u0447\\u0438\\u0441\\u0442\\u0438\\u0442\\u044c \\u043a\\u043e\\u043c\\u043f\\u044c\\u044e\\u0442\\u0435\\u0440 \\u043e\\u0442 \\u0440\\u0435\\u043a\\u043b\\u0430\\u043c\\u044b, \\u0443\\u0434\\u0430\\u043b\\u0438\\u0442\\u044c \\u043c\\u0443\\u0441\\u043e\\u0440 \\u0438 \\u0443\\u0441\\u043a\\u043e\\u0440\\u0438\\u0442\\u044c \\u0440\\u0430\\u0431\\u043e\\u0442\\u0443 Windows\\u041a\\u0430\\u043a \\u0443\\u0434\\u0430\\u043b\\u0438\\u0442\\u044c \\u0444\\u0430\\u0439\\u043b, \\u043a\\u043e\\u0442\\u043e\\u0440\\u044b\\u0439 \\u043d\\u0435 \\u0443\\u0434\\u0430\\u043b\\u044f\\u0435\\u0442\\u0441\\u044f7 \\u0444\\u0430\\u0439\\u043b\\u043e\\u0432 \\u0438 \\u043f\\u0430\\u043f\\u043e\\u043a Windows, \\u043a\\u043e\\u0442\\u043e\\u0440\\u044b\\u0435 \\u043c\\u043e\\u0436\\u043d\\u043e \\u0431\\u0435\\u0437\\u043e\\u043f\\u0430\\u0441\\u043d\\u043e \\u0443\\u0434\\u0430\\u043b\\u0438\\u0442\\u044c, \\u0447\\u0442\\u043e\\u0431\\u044b \\u043e\\u0447\\u0438\\u0441\\u0442\\u0438\\u0442\\u044c \\u043c\\u0435\\u0441\\u0442\\u043e16 \\u0441\\u043f\\u043e\\u0441\\u043e\\u0431\\u043e\\u0432 \\u043e\\u0447\\u0438\\u0441\\u0442\\u0438\\u0442\\u044c Mac \\u043e\\u0442 \\u0432\\u0441\\u0435\\u0433\\u043e \\u043b\\u0438\\u0448\\u043d\\u0435\\u0433\\u043e\",\n          \"\\u041a\\u043e\\u043c\\u043f\\u0430\\u043d\\u0438\\u044f Unihertz \\u043f\\u0440\\u0435\\u0434\\u0441\\u0442\\u0430\\u0432\\u0438\\u043b\\u0430 \\u0441\\u043c\\u0430\\u0440\\u0442\\u0444\\u043e\\u043d Titan 2 \\u0441 QWERTY-\\u043a\\u043b\\u0430\\u0432\\u0438\\u0430\\u0442\\u0443\\u0440\\u043e\\u0439, \\u0434\\u0438\\u0437\\u0430\\u0439\\u043d \\u043a\\u043e\\u0442\\u043e\\u0440\\u043e\\u0439 \\u043e\\u0442\\u0441\\u044b\\u043b\\u0430\\u0435\\u0442 \\u043a \\u043a\\u0443\\u043b\\u044c\\u0442\\u043e\\u0432\\u043e\\u043c\\u0443 BlackBerry Passport. \\u041f\\u043e\\u043c\\u0438\\u043c\\u043e \\u043e\\u0441\\u043d\\u043e\\u0432\\u043d\\u043e\\u0433\\u043e \\u043a\\u0432\\u0430\\u0434\\u0440\\u0430\\u0442\\u043d\\u043e\\u0433\\u043e 4,5\\u2011\\u0434\\u044e\\u0439\\u043c\\u043e\\u0432\\u043e\\u0433\\u043e \\u044d\\u043a\\u0440\\u0430\\u043d\\u0430 \\u0441 \\u0440\\u0430\\u0437\\u0440\\u0435\\u0448\\u0435\\u043d\\u0438\\u0435\\u043c 1440 \\u00d7 1440 \\u0442\\u043e\\u0447\\u0435\\u043a \\u0435\\u0441\\u0442\\u044c \\u0434\\u043e\\u043f\\u043e\\u043b\\u043d\\u0438\\u0442\\u0435\\u043b\\u044c\\u043d\\u044b\\u0439 \\u0434\\u0432\\u0443\\u0445\\u0434\\u044e\\u0439\\u043c\\u043e\\u0432\\u044b\\u0439 \\u0434\\u0438\\u0441\\u043f\\u043b\\u0435\\u0439 (502 \\u00d7 410 \\u043f\\u0438\\u043a\\u0441\\u0435\\u043b\\u0435\\u0439) \\u043d\\u0430 \\u0437\\u0430\\u0434\\u043d\\u0435\\u0439 \\u043f\\u0430\\u043d\\u0435\\u043b\\u0438, \\u043d\\u0430 \\u043a\\u043e\\u0442\\u043e\\u0440\\u044b\\u0439 \\u043c\\u043e\\u0436\\u043d\\u043e \\u0432\\u044b\\u0432\\u043e\\u0434\\u0438\\u0442\\u044c \\u0447\\u0430\\u0441\\u044b \\u0438 \\u0432\\u0438\\u0434\\u0436\\u0435\\u0442\\u044b. \\u0421\\u043c\\u0430\\u0440\\u0442\\u0444\\u043e\\u043d \\u043e\\u0441\\u043d\\u0430\\u0449\\u0451\\u043d \\u0434\\u0432\\u0443\\u043c\\u044f \\u0444\\u0443\\u043d\\u043a\\u0446\\u0438\\u043e\\u043d\\u0430\\u043b\\u044c\\u043d\\u044b\\u043c\\u0438 \\u043a\\u043d\\u043e\\u043f\\u043a\\u0430\\u043c\\u0438, \\u0430 \\u0442\\u0430\\u043a\\u0436\\u0435 \\u0432\\u043e\\u0437\\u043c\\u043e\\u0436\\u043d\\u043e\\u0441\\u0442\\u044c\\u044e \\u0437\\u0430\\u0434\\u0430\\u0432\\u0430\\u0442\\u044c \\u0434\\u0435\\u0439\\u0441\\u0442\\u0432\\u0438\\u044f \\u043d\\u0430 \\u0434\\u043b\\u0438\\u0442\\u0435\\u043b\\u044c\\u043d\\u043e\\u0435 \\u0438\\u043b\\u0438 \\u0434\\u0432\\u043e\\u0439\\u043d\\u043e\\u0435 \\u043d\\u0430\\u0436\\u0430\\u0442\\u0438\\u0435 \\u043a\\u043b\\u0430\\u0432\\u0438\\u0448 \\u043a\\u043b\\u0430\\u0432\\u0438\\u0430\\u0442\\u0443\\u0440\\u044b.\\u0418\\u0437\\u043e\\u0431\\u0440\\u0430\\u0436\\u0435\\u043d\\u0438\\u0435: Unihertz \\u0424\\u0438\\u0437\\u0438\\u0447\\u0435\\u0441\\u043a\\u0430\\u044f \\u043a\\u043b\\u0430\\u0432\\u0438\\u0430\\u0442\\u0443\\u0440\\u0430 \\u0438\\u043c\\u0435\\u0435\\u0442 \\u0431\\u043e\\u043b\\u044c\\u0448\\u0438\\u0435 \\u043a\\u0432\\u0430\\u0434\\u0440\\u0430\\u0442\\u043d\\u044b\\u0435 \\u043a\\u043d\\u043e\\u043f\\u043a\\u0438, \\u0440\\u0430\\u0441\\u043f\\u043e\\u043b\\u043e\\u0436\\u0435\\u043d\\u043d\\u044b\\u0435 \\u0432 \\u0442\\u0440\\u0438 \\u0440\\u044f\\u0434\\u0430. \\u041f\\u043e\\u0432\\u0435\\u0440\\u0445 \\u043a\\u043b\\u0430\\u0432\\u0438\\u0448 \\u0440\\u0430\\u0437\\u043c\\u0435\\u0449\\u0435\\u043d\\u0430 \\u0441\\u0435\\u043d\\u0441\\u043e\\u0440\\u043d\\u0430\\u044f \\u0437\\u043e\\u043d\\u0430: \\u043e\\u043d\\u0430 \\u043f\\u043e\\u0437\\u0432\\u043e\\u043b\\u044f\\u0435\\u0442 \\u043f\\u0440\\u043e\\u043a\\u0440\\u0443\\u0447\\u0438\\u0432\\u0430\\u0442\\u044c \\u043c\\u0435\\u043d\\u044e \\u0438 \\u043f\\u0435\\u0440\\u0435\\u043c\\u0435\\u0449\\u0430\\u0442\\u044c \\u043a\\u0443\\u0440\\u0441\\u043e\\u0440. \\u0415\\u0441\\u0442\\u044c \\u043f\\u043e\\u0434\\u0441\\u0432\\u0435\\u0442\\u043a\\u0430 \\u0434\\u043b\\u044f \\u0443\\u0434\\u043e\\u0431\\u0441\\u0442\\u0432\\u0430 \\u0440\\u0430\\u0431\\u043e\\u0442\\u044b \\u0432 \\u0442\\u0435\\u043c\\u043d\\u043e\\u0442\\u0435. Unihertz \\u043d\\u0435 \\u043f\\u043b\\u0430\\u043d\\u0438\\u0440\\u0443\\u0435\\u0442 \\u0432\\u044b\\u043f\\u0443\\u0441\\u043a\\u0430\\u0442\\u044c \\u0432\\u0435\\u0440\\u0441\\u0438\\u044e \\u0441 \\u043a\\u0438\\u0440\\u0438\\u043b\\u043b\\u0438\\u0447\\u0435\\u0441\\u043a\\u0438\\u043c\\u0438 \\u0441\\u0438\\u043c\\u0432\\u043e\\u043b\\u0430\\u043c\\u0438 \\u043d\\u0430 \\u043a\\u043b\\u0430\\u0432\\u0438\\u0430\\u0442\\u0443\\u0440\\u0435, \\u043e\\u0434\\u043d\\u0430\\u043a\\u043e \\u043f\\u043e\\u0434\\u0434\\u0435\\u0440\\u0436\\u043a\\u0430 \\u0440\\u0443\\u0441\\u0441\\u043a\\u043e\\u044f\\u0437\\u044b\\u0447\\u043d\\u043e\\u0433\\u043e \\u0432\\u0432\\u043e\\u0434\\u0430 \\u0434\\u043e\\u043b\\u0436\\u043d\\u0430 \\u0431\\u044b\\u0442\\u044c \\u0440\\u0435\\u0430\\u043b\\u0438\\u0437\\u043e\\u0432\\u0430\\u043d\\u0430 \\u043f\\u0440\\u043e\\u0433\\u0440\\u0430\\u043c\\u043c\\u043d\\u043e.\\u0418\\u0437\\u043e\\u0431\\u0440\\u0430\\u0436\\u0435\\u043d\\u0438\\u0435: Unihertz \\u0423\\u0441\\u0442\\u0440\\u043e\\u0439\\u0441\\u0442\\u0432\\u043e \\u0440\\u0430\\u0431\\u043e\\u0442\\u0430\\u0435\\u0442 \\u043d\\u0430 Android 15 \\u0438 \\u043f\\u043e\\u0441\\u0442\\u0440\\u043e\\u0435\\u043d\\u043e \\u043d\\u0430 \\u0447\\u0435\\u0442\\u044b\\u0440\\u0451\\u0445\\u043d\\u0430\\u043d\\u043e\\u043c\\u0435\\u0442\\u0440\\u043e\\u0432\\u043e\\u043c \\u0447\\u0438\\u043f\\u0441\\u0435\\u0442\\u0435 MediaTek Dimensity 7300, \\u0430 \\u0442\\u0430\\u043a\\u0436\\u0435 \\u043e\\u0441\\u043d\\u0430\\u0449\\u0435\\u043d\\u043e 12 \\u0413\\u0411 \\u043e\\u043f\\u0435\\u0440\\u0430\\u0442\\u0438\\u0432\\u043d\\u043e\\u0439 \\u043f\\u0430\\u043c\\u044f\\u0442\\u0438 LPDDR5 \\u0438 \\u043d\\u0430\\u043a\\u043e\\u043f\\u0438\\u0442\\u0435\\u043b\\u0435\\u043c UFS 3.1 \\u043e\\u0431\\u044a\\u0451\\u043c\\u043e\\u043c 512 \\u0413\\u0411. \\u041a\\u0430\\u043c\\u0435\\u0440\\u044b \\u0432\\u043a\\u043b\\u044e\\u0447\\u0430\\u044e\\u0442 \\u043e\\u0441\\u043d\\u043e\\u0432\\u043d\\u0443\\u044e \\u043d\\u0430 50 \\u041c\\u043f, \\u0442\\u0435\\u043b\\u0435\\u043e\\u0431\\u044a\\u0435\\u043a\\u0442\\u0438\\u0432 \\u0441 3,4\\u2011\\u043a\\u0440\\u0430\\u0442\\u043d\\u044b\\u043c \\u0437\\u0443\\u043c\\u043e\\u043c \\u043d\\u0430 8 \\u041c\\u043f \\u0438 \\u0444\\u0440\\u043e\\u043d\\u0442\\u0430\\u043b\\u044c\\u043d\\u0443\\u044e \\u043d\\u0430 32 \\u041c\\u043f. \\u0401\\u043c\\u043a\\u043e\\u0441\\u0442\\u044c \\u0430\\u043a\\u043a\\u0443\\u043c\\u0443\\u043b\\u044f\\u0442\\u043e\\u0440\\u0430 \\u0441\\u043e\\u0441\\u0442\\u0430\\u0432\\u043b\\u044f\\u0435\\u0442 5050 \\u043c\\u0410\\u00b7\\u0447, \\u043f\\u0440\\u0435\\u0434\\u0443\\u0441\\u043c\\u043e\\u0442\\u0440\\u0435\\u043d\\u0430 \\u0437\\u0430\\u0440\\u044f\\u0434\\u043a\\u0430 \\u043c\\u043e\\u0449\\u043d\\u043e\\u0441\\u0442\\u044c\\u044e 33 \\u0412\\u0442 \\u0447\\u0435\\u0440\\u0435\\u0437 USB Type\\u2011C.\\u0418\\u0437\\u043e\\u0431\\u0440\\u0430\\u0436\\u0435\\u043d\\u0438\\u0435: Unihertz Titan 2 \\u043f\\u043e\\u0434\\u0434\\u0435\\u0440\\u0436\\u0438\\u0432\\u0430\\u0435\\u0442 5G, Wi-Fi 6, Bluetooth 5.4, NFC, \\u0430 \\u0442\\u0430\\u043a\\u0436\\u0435 \\u043e\\u0441\\u043d\\u0430\\u0449\\u0451\\u043d \\u0441\\u043a\\u0430\\u043d\\u0435\\u0440\\u043e\\u043c \\u043e\\u0442\\u043f\\u0435\\u0447\\u0430\\u0442\\u043a\\u043e\\u0432 \\u043f\\u0430\\u043b\\u044c\\u0446\\u0435\\u0432 \\u0438 \\u0418\\u041a-\\u043f\\u043e\\u0440\\u0442\\u043e\\u043c. \\u0420\\u0430\\u0437\\u043c\\u0435\\u0440\\u044b \\u0443\\u0441\\u0442\\u0440\\u043e\\u0439\\u0441\\u0442\\u0432\\u0430 \\u2014 137,8 \\u00d7 88,7 \\u00d7 10,8 \\u043c\\u043c, \\u0432\\u0435\\u0441 \\u2014 235\\u00a0\\u0433.\\u0421\\u043c\\u0430\\u0440\\u0442\\u0444\\u043e\\u043d \\u0443\\u0436\\u0435 \\u0434\\u043e\\u0441\\u0442\\u0443\\u043f\\u0435\\u043d \\u0434\\u043b\\u044f \\u043f\\u0440\\u0435\\u0434\\u0437\\u0430\\u043a\\u0430\\u0437\\u0430 \\u043d\\u0430 Kickstarter \\u043f\\u043e \\u0446\\u0435\\u043d\\u0435 269 \\u0434\\u043e\\u043b\\u043b\\u0430\\u0440\\u043e\\u0432 (\\u224821 100 \\u0440\\u0443\\u0431\\u043b\\u0435\\u0439). \\u0412 \\u043f\\u0440\\u043e\\u0434\\u0430\\u0436\\u0443 \\u043e\\u043d \\u043f\\u043e\\u0441\\u0442\\u0443\\u043f\\u0438\\u0442 \\u0432 \\u043e\\u043a\\u0442\\u044f\\u0431\\u0440\\u0435 \\u044d\\u0442\\u043e\\u0433\\u043e\\u00a0\\u0433\\u043e\\u0434\\u0430.\\u041d\\u043e\\u0432\\u043e\\u0441\\u0442\\u0438 \\u0442\\u0435\\u0445\\u043d\\u043e\\u043b\\u043e\\u0433\\u0438\\u0439\\ud83e\\udd14\\u041f\\u0440\\u0435\\u0434\\u0443\\u0441\\u0442\\u0430\\u043d\\u043e\\u0432\\u043a\\u0430 RuStore \\u0441\\u0442\\u0430\\u043b\\u0430 \\u043e\\u0431\\u044f\\u0437\\u0430\\u0442\\u0435\\u043b\\u044c\\u043d\\u043e\\u0439 \\u0434\\u043b\\u044f \\u043f\\u0440\\u043e\\u0434\\u0430\\u0432\\u0430\\u0435\\u043c\\u044b\\u0445 \\u0432 \\u0420\\u043e\\u0441\\u0441\\u0438\\u0438 \\u0441\\u043c\\u0430\\u0440\\u0442\\u0444\\u043e\\u043d\\u043e\\u0432 \\u0438 \\u043f\\u043b\\u0430\\u043d\\u0448\\u0435\\u0442\\u043e\\u0432 \\u2014 \\u044d\\u0442\\u043e \\u043a\\u0430\\u0441\\u0430\\u0435\\u0442\\u0441\\u044f \\u0438 Apple\\u041f\\u0440\\u0435\\u0434\\u0441\\u0442\\u0430\\u0432\\u043b\\u0435\\u043d \\u043d\\u0435\\u0434\\u043e\\u0440\\u043e\\u0433\\u043e\\u0439 \\u0433\\u0435\\u0439\\u043c\\u0435\\u0440\\u0441\\u043a\\u0438\\u0439 \\u0441\\u043c\\u0430\\u0440\\u0442\\u0444\\u043e\\u043d Poco F7 \\u0441 \\u0431\\u0430\\u0442\\u0430\\u0440\\u0435\\u0439\\u043a\\u043e\\u0439 7 550 \\u043c\\u0410\\u22c5\\u0447 \\u2014 \\u043d\\u043e \\u043d\\u0435 \\u0434\\u043b\\u044f \\u0432\\u0441\\u0435\\u0445\\u0422\\u0435\\u043f\\u0435\\u0440\\u044c \\u043e\\u0444\\u0438\\u0446\\u0438\\u0430\\u043b\\u044c\\u043d\\u043e: \\u0432 \\u0420\\u043e\\u0441\\u0441\\u0438\\u0438 \\u043f\\u043e\\u044f\\u0432\\u0438\\u0442\\u0441\\u044f \\u043d\\u0430\\u0446\\u0438\\u043e\\u043d\\u0430\\u043b\\u044c\\u043d\\u044b\\u0439 \\u043c\\u0435\\u0441\\u0441\\u0435\\u043d\\u0434\\u0436\\u0435\\u0440\"\n        ],\n        \"semantic_type\": \"\",\n        \"description\": \"\"\n      }\n    }\n  ]\n}"
            }
          },
          "metadata": {},
          "execution_count": 43
        }
      ]
    }
  ]
}